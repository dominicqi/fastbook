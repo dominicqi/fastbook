{
 "cells": [
  {
   "cell_type": "code",
   "execution_count": 1,
   "id": "332b0699-63e7-4e0f-acfe-54aec435ae92",
   "metadata": {
    "execution": {
     "iopub.execute_input": "2023-04-19T03:21:53.798962Z",
     "iopub.status.busy": "2023-04-19T03:21:53.797792Z",
     "iopub.status.idle": "2023-04-19T03:21:58.366916Z",
     "shell.execute_reply": "2023-04-19T03:21:58.366028Z",
     "shell.execute_reply.started": "2023-04-19T03:21:53.798850Z"
    }
   },
   "outputs": [],
   "source": [
    "import fastbook\n",
    "fastbook.setup_book()"
   ]
  },
  {
   "cell_type": "code",
   "execution_count": 2,
   "id": "ff62e0dd-90a0-4609-8e44-69b2a97eb896",
   "metadata": {
    "execution": {
     "iopub.execute_input": "2023-04-19T03:21:58.369097Z",
     "iopub.status.busy": "2023-04-19T03:21:58.368663Z",
     "iopub.status.idle": "2023-04-19T03:21:58.374689Z",
     "shell.execute_reply": "2023-04-19T03:21:58.373769Z",
     "shell.execute_reply.started": "2023-04-19T03:21:58.369047Z"
    }
   },
   "outputs": [],
   "source": [
    "from fastai.vision.all import *\n",
    "from fastbook import *"
   ]
  },
  {
   "cell_type": "code",
   "execution_count": 3,
   "id": "69d159b7-f48d-4d25-9404-3f3ff4591550",
   "metadata": {
    "execution": {
     "iopub.execute_input": "2023-04-19T03:21:58.376316Z",
     "iopub.status.busy": "2023-04-19T03:21:58.375931Z",
     "iopub.status.idle": "2023-04-19T03:22:01.763026Z",
     "shell.execute_reply": "2023-04-19T03:22:01.761969Z",
     "shell.execute_reply.started": "2023-04-19T03:21:58.376316Z"
    }
   },
   "outputs": [
    {
     "data": {
      "text/html": [
       "\n",
       "<style>\n",
       "    /* Turns off some styling */\n",
       "    progress {\n",
       "        /* gets rid of default border in Firefox and Opera. */\n",
       "        border: none;\n",
       "        /* Needs to be in here for Safari polyfill so background images work as expected. */\n",
       "        background-size: auto;\n",
       "    }\n",
       "    progress:not([value]), progress:not([value])::-webkit-progress-bar {\n",
       "        background: repeating-linear-gradient(45deg, #7e7e7e, #7e7e7e 10px, #5c5c5c 10px, #5c5c5c 20px);\n",
       "    }\n",
       "    .progress-bar-interrupted, .progress-bar-interrupted::-webkit-progress-bar {\n",
       "        background: #F44336;\n",
       "    }\n",
       "</style>\n"
      ],
      "text/plain": [
       "<IPython.core.display.HTML object>"
      ]
     },
     "metadata": {},
     "output_type": "display_data"
    },
    {
     "data": {
      "text/html": [
       "\n",
       "    <div>\n",
       "      <progress value='3219456' class='' max='3214948' style='width:300px; height:20px; vertical-align: middle;'></progress>\n",
       "      100.14% [3219456/3214948 00:00&lt;00:00]\n",
       "    </div>\n",
       "    "
      ],
      "text/plain": [
       "<IPython.core.display.HTML object>"
      ]
     },
     "metadata": {},
     "output_type": "display_data"
    },
    {
     "data": {
      "text/plain": [
       "(#3) [Path('train'),Path('labels.csv'),Path('valid')]"
      ]
     },
     "execution_count": 3,
     "metadata": {},
     "output_type": "execute_result"
    }
   ],
   "source": [
    "path = untar_data(URLs.MNIST_SAMPLE)\n",
    "Path.BASE_PATH = path\n",
    "path.ls()"
   ]
  },
  {
   "cell_type": "markdown",
   "id": "f381cc8c-f3ec-4797-abdb-09f3ef0597e3",
   "metadata": {},
   "source": [
    "文件夹下有训练集和验证集"
   ]
  },
  {
   "cell_type": "code",
   "execution_count": 4,
   "id": "204af61d-9f66-4c8c-a924-3810d0283c40",
   "metadata": {
    "execution": {
     "iopub.execute_input": "2023-04-19T03:22:01.765352Z",
     "iopub.status.busy": "2023-04-19T03:22:01.765100Z",
     "iopub.status.idle": "2023-04-19T03:22:01.865317Z",
     "shell.execute_reply": "2023-04-19T03:22:01.863915Z",
     "shell.execute_reply.started": "2023-04-19T03:22:01.765327Z"
    }
   },
   "outputs": [
    {
     "data": {
      "text/plain": [
       "(#6131) [Path('train/3/10.png'),Path('train/3/10000.png'),Path('train/3/10011.png'),Path('train/3/10031.png'),Path('train/3/10034.png'),Path('train/3/10042.png'),Path('train/3/10052.png'),Path('train/3/1007.png'),Path('train/3/10074.png'),Path('train/3/10091.png')...]"
      ]
     },
     "execution_count": 4,
     "metadata": {},
     "output_type": "execute_result"
    }
   ],
   "source": [
    "threes = (path/'train'/'3').ls().sorted()\n",
    "sevens = (path/'train'/'7').ls().sorted()\n",
    "threes"
   ]
  },
  {
   "cell_type": "markdown",
   "id": "738eaadd-5810-418d-a7aa-a541cbfef950",
   "metadata": {},
   "source": [
    "查看第一张图片"
   ]
  },
  {
   "cell_type": "code",
   "execution_count": 5,
   "id": "8cdbd307-84ca-4978-b129-4615a365d7fa",
   "metadata": {
    "execution": {
     "iopub.execute_input": "2023-04-19T03:22:01.867160Z",
     "iopub.status.busy": "2023-04-19T03:22:01.866809Z",
     "iopub.status.idle": "2023-04-19T03:22:01.879151Z",
     "shell.execute_reply": "2023-04-19T03:22:01.878334Z",
     "shell.execute_reply.started": "2023-04-19T03:22:01.867133Z"
    }
   },
   "outputs": [
    {
     "data": {
      "image/png": "[encoded data removed]",
      "text/plain": [
       "<PIL.PngImagePlugin.PngImageFile image mode=L size=28x28>"
      ]
     },
     "execution_count": 5,
     "metadata": {},
     "output_type": "execute_result"
    }
   ],
   "source": [
    "im3 = Image.open(threes[1])\n",
    "im3"
   ]
  },
  {
   "cell_type": "markdown",
   "id": "f63725e4-bfe9-4f1a-bb80-945adb4f30a6",
   "metadata": {},
   "source": [
    "numpy数组展示 \n",
    "图片像素是 28 * 28 的 这里看的其实是左上角的像素值 6*6 二维数组"
   ]
  },
  {
   "cell_type": "code",
   "execution_count": 6,
   "id": "cdccec1c-e4f6-42bb-bf23-253348acc14a",
   "metadata": {
    "execution": {
     "iopub.execute_input": "2023-04-19T03:22:01.880426Z",
     "iopub.status.busy": "2023-04-19T03:22:01.880169Z",
     "iopub.status.idle": "2023-04-19T03:22:01.889398Z",
     "shell.execute_reply": "2023-04-19T03:22:01.888384Z",
     "shell.execute_reply.started": "2023-04-19T03:22:01.880403Z"
    }
   },
   "outputs": [
    {
     "data": {
      "text/plain": [
       "array([[  0,   0,   0,   0,   0,   0],\n",
       "       [  0,   0,   0,   0,   0,  29],\n",
       "       [  0,   0,   0,  48, 166, 224],\n",
       "       [  0,  93, 244, 249, 253, 187],\n",
       "       [  0, 107, 253, 253, 230,  48],\n",
       "       [  0,   3,  20,  20,  15,   0]], dtype=uint8)"
      ]
     },
     "execution_count": 6,
     "metadata": {},
     "output_type": "execute_result"
    }
   ],
   "source": [
    "array(im3)[4:10,4:10]"
   ]
  },
  {
   "cell_type": "markdown",
   "id": "04c9e9ec-7c7d-460b-8615-d30a7743d025",
   "metadata": {},
   "source": [
    "张量 tensor 展示\n"
   ]
  },
  {
   "cell_type": "code",
   "execution_count": 7,
   "id": "f804f526-4544-438a-8cb0-a4149263e917",
   "metadata": {
    "execution": {
     "iopub.execute_input": "2023-04-19T03:22:01.891431Z",
     "iopub.status.busy": "2023-04-19T03:22:01.891015Z",
     "iopub.status.idle": "2023-04-19T03:22:01.902158Z",
     "shell.execute_reply": "2023-04-19T03:22:01.901077Z",
     "shell.execute_reply.started": "2023-04-19T03:22:01.891431Z"
    }
   },
   "outputs": [
    {
     "data": {
      "text/plain": [
       "tensor([[  0,   0,   0,   0,   0,   0],\n",
       "        [  0,   0,   0,   0,   0,  29],\n",
       "        [  0,   0,   0,  48, 166, 224],\n",
       "        [  0,  93, 244, 249, 253, 187],\n",
       "        [  0, 107, 253, 253, 230,  48],\n",
       "        [  0,   3,  20,  20,  15,   0]], dtype=torch.uint8)"
      ]
     },
     "execution_count": 7,
     "metadata": {},
     "output_type": "execute_result"
    }
   ],
   "source": [
    "tensor(im3)[4:10,4:10]"
   ]
  },
  {
   "cell_type": "markdown",
   "id": "3dd3da72-a4fd-4bce-bf0e-bec00d73ca49",
   "metadata": {},
   "source": [
    "打印左上角像素"
   ]
  },
  {
   "cell_type": "code",
   "execution_count": 8,
   "id": "5a470296-5580-468a-880f-6011a73cd55b",
   "metadata": {
    "execution": {
     "iopub.execute_input": "2023-04-19T03:22:01.904188Z",
     "iopub.status.busy": "2023-04-19T03:22:01.903811Z",
     "iopub.status.idle": "2023-04-19T03:22:02.155917Z",
     "shell.execute_reply": "2023-04-19T03:22:02.155017Z",
     "shell.execute_reply.started": "2023-04-19T03:22:01.904151Z"
    }
   },
   "outputs": [
    {
     "data": {
      "text/html": [
       "<style type=\"text/css\">\n",
       "#T_a94c0_row0_col0, #T_a94c0_row0_col1, #T_a94c0_row0_col2, #T_a94c0_row0_col3, #T_a94c0_row0_col4, #T_a94c0_row0_col5, #T_a94c0_row0_col6, #T_a94c0_row0_col7, #T_a94c0_row0_col8, #T_a94c0_row0_col9, #T_a94c0_row0_col10, #T_a94c0_row0_col11, #T_a94c0_row0_col12, #T_a94c0_row0_col13, #T_a94c0_row0_col14, #T_a94c0_row0_col15, #T_a94c0_row0_col16, #T_a94c0_row0_col17, #T_a94c0_row1_col0, #T_a94c0_row1_col1, #T_a94c0_row1_col2, #T_a94c0_row1_col3, #T_a94c0_row1_col4, #T_a94c0_row1_col15, #T_a94c0_row1_col16, #T_a94c0_row1_col17, #T_a94c0_row2_col0, #T_a94c0_row2_col1, #T_a94c0_row2_col2, #T_a94c0_row2_col15, #T_a94c0_row2_col16, #T_a94c0_row2_col17, #T_a94c0_row3_col0, #T_a94c0_row3_col15, #T_a94c0_row3_col16, #T_a94c0_row3_col17, #T_a94c0_row4_col0, #T_a94c0_row4_col6, #T_a94c0_row4_col7, #T_a94c0_row4_col8, #T_a94c0_row4_col9, #T_a94c0_row4_col10, #T_a94c0_row4_col15, #T_a94c0_row4_col16, #T_a94c0_row4_col17, #T_a94c0_row5_col0, #T_a94c0_row5_col5, #T_a94c0_row5_col6, #T_a94c0_row5_col7, #T_a94c0_row5_col8, #T_a94c0_row5_col9, #T_a94c0_row5_col15, #T_a94c0_row5_col16, #T_a94c0_row5_col17, #T_a94c0_row6_col0, #T_a94c0_row6_col1, #T_a94c0_row6_col2, #T_a94c0_row6_col3, #T_a94c0_row6_col4, #T_a94c0_row6_col5, #T_a94c0_row6_col6, #T_a94c0_row6_col7, #T_a94c0_row6_col8, #T_a94c0_row6_col9, #T_a94c0_row6_col14, #T_a94c0_row6_col15, #T_a94c0_row6_col16, #T_a94c0_row6_col17, #T_a94c0_row7_col0, #T_a94c0_row7_col1, #T_a94c0_row7_col2, #T_a94c0_row7_col3, #T_a94c0_row7_col4, #T_a94c0_row7_col5, #T_a94c0_row7_col6, #T_a94c0_row7_col13, #T_a94c0_row7_col14, #T_a94c0_row7_col15, #T_a94c0_row7_col16, #T_a94c0_row7_col17, #T_a94c0_row8_col0, #T_a94c0_row8_col1, #T_a94c0_row8_col2, #T_a94c0_row8_col3, #T_a94c0_row8_col4, #T_a94c0_row8_col13, #T_a94c0_row8_col14, #T_a94c0_row8_col15, #T_a94c0_row8_col16, #T_a94c0_row8_col17, #T_a94c0_row9_col0, #T_a94c0_row9_col1, #T_a94c0_row9_col2, #T_a94c0_row9_col3, #T_a94c0_row9_col4, #T_a94c0_row9_col16, #T_a94c0_row9_col17, #T_a94c0_row10_col0, #T_a94c0_row10_col1, #T_a94c0_row10_col2, #T_a94c0_row10_col3, #T_a94c0_row10_col4, #T_a94c0_row10_col5, #T_a94c0_row10_col6, #T_a94c0_row10_col17 {\n",
       "  front-zie: 6px;\n",
       "  background-color: #ffffff;\n",
       "  color: #000000;\n",
       "}\n",
       "#T_a94c0_row1_col5 {\n",
       "  front-zie: 6px;\n",
       "  background-color: #efefef;\n",
       "  color: #000000;\n",
       "}\n",
       "#T_a94c0_row1_col6, #T_a94c0_row1_col13 {\n",
       "  front-zie: 6px;\n",
       "  background-color: #7c7c7c;\n",
       "  color: #f1f1f1;\n",
       "}\n",
       "#T_a94c0_row1_col7 {\n",
       "  front-zie: 6px;\n",
       "  background-color: #4a4a4a;\n",
       "  color: #f1f1f1;\n",
       "}\n",
       "#T_a94c0_row1_col8, #T_a94c0_row1_col9, #T_a94c0_row1_col10, #T_a94c0_row2_col5, #T_a94c0_row2_col6, #T_a94c0_row2_col7, #T_a94c0_row2_col11, #T_a94c0_row2_col12, #T_a94c0_row2_col13, #T_a94c0_row3_col4, #T_a94c0_row3_col12, #T_a94c0_row3_col13, #T_a94c0_row4_col1, #T_a94c0_row4_col2, #T_a94c0_row4_col3, #T_a94c0_row4_col12, #T_a94c0_row4_col13, #T_a94c0_row5_col12, #T_a94c0_row6_col11, #T_a94c0_row9_col11, #T_a94c0_row10_col11, #T_a94c0_row10_col12, #T_a94c0_row10_col13, #T_a94c0_row10_col14, #T_a94c0_row10_col15, #T_a94c0_row10_col16 {\n",
       "  front-zie: 6px;\n",
       "  background-color: #000000;\n",
       "  color: #f1f1f1;\n",
       "}\n",
       "#T_a94c0_row1_col11 {\n",
       "  front-zie: 6px;\n",
       "  background-color: #606060;\n",
       "  color: #f1f1f1;\n",
       "}\n",
       "#T_a94c0_row1_col12 {\n",
       "  front-zie: 6px;\n",
       "  background-color: #4d4d4d;\n",
       "  color: #f1f1f1;\n",
       "}\n",
       "#T_a94c0_row1_col14 {\n",
       "  front-zie: 6px;\n",
       "  background-color: #bbbbbb;\n",
       "  color: #000000;\n",
       "}\n",
       "#T_a94c0_row2_col3 {\n",
       "  front-zie: 6px;\n",
       "  background-color: #e4e4e4;\n",
       "  color: #000000;\n",
       "}\n",
       "#T_a94c0_row2_col4, #T_a94c0_row8_col6 {\n",
       "  front-zie: 6px;\n",
       "  background-color: #6b6b6b;\n",
       "  color: #f1f1f1;\n",
       "}\n",
       "#T_a94c0_row2_col8, #T_a94c0_row2_col14, #T_a94c0_row3_col14 {\n",
       "  front-zie: 6px;\n",
       "  background-color: #171717;\n",
       "  color: #f1f1f1;\n",
       "}\n",
       "#T_a94c0_row2_col9, #T_a94c0_row3_col11 {\n",
       "  front-zie: 6px;\n",
       "  background-color: #4b4b4b;\n",
       "  color: #f1f1f1;\n",
       "}\n",
       "#T_a94c0_row2_col10, #T_a94c0_row7_col10, #T_a94c0_row8_col8, #T_a94c0_row8_col10, #T_a94c0_row9_col8, #T_a94c0_row9_col10 {\n",
       "  front-zie: 6px;\n",
       "  background-color: #010101;\n",
       "  color: #f1f1f1;\n",
       "}\n",
       "#T_a94c0_row3_col1 {\n",
       "  front-zie: 6px;\n",
       "  background-color: #272727;\n",
       "  color: #f1f1f1;\n",
       "}\n",
       "#T_a94c0_row3_col2 {\n",
       "  front-zie: 6px;\n",
       "  background-color: #0a0a0a;\n",
       "  color: #f1f1f1;\n",
       "}\n",
       "#T_a94c0_row3_col3 {\n",
       "  front-zie: 6px;\n",
       "  background-color: #050505;\n",
       "  color: #f1f1f1;\n",
       "}\n",
       "#T_a94c0_row3_col5 {\n",
       "  front-zie: 6px;\n",
       "  background-color: #333333;\n",
       "  color: #f1f1f1;\n",
       "}\n",
       "#T_a94c0_row3_col6 {\n",
       "  front-zie: 6px;\n",
       "  background-color: #e6e6e6;\n",
       "  color: #000000;\n",
       "}\n",
       "#T_a94c0_row3_col7, #T_a94c0_row3_col10 {\n",
       "  front-zie: 6px;\n",
       "  background-color: #fafafa;\n",
       "  color: #000000;\n",
       "}\n",
       "#T_a94c0_row3_col8 {\n",
       "  front-zie: 6px;\n",
       "  background-color: #fbfbfb;\n",
       "  color: #000000;\n",
       "}\n",
       "#T_a94c0_row3_col9 {\n",
       "  front-zie: 6px;\n",
       "  background-color: #fdfdfd;\n",
       "  color: #000000;\n",
       "}\n",
       "#T_a94c0_row4_col4 {\n",
       "  front-zie: 6px;\n",
       "  background-color: #1b1b1b;\n",
       "  color: #f1f1f1;\n",
       "}\n",
       "#T_a94c0_row4_col5 {\n",
       "  front-zie: 6px;\n",
       "  background-color: #e0e0e0;\n",
       "  color: #000000;\n",
       "}\n",
       "#T_a94c0_row4_col11 {\n",
       "  front-zie: 6px;\n",
       "  background-color: #4e4e4e;\n",
       "  color: #f1f1f1;\n",
       "}\n",
       "#T_a94c0_row4_col14 {\n",
       "  front-zie: 6px;\n",
       "  background-color: #767676;\n",
       "  color: #f1f1f1;\n",
       "}\n",
       "#T_a94c0_row5_col1 {\n",
       "  front-zie: 6px;\n",
       "  background-color: #fcfcfc;\n",
       "  color: #000000;\n",
       "}\n",
       "#T_a94c0_row5_col2, #T_a94c0_row5_col3 {\n",
       "  front-zie: 6px;\n",
       "  background-color: #f6f6f6;\n",
       "  color: #000000;\n",
       "}\n",
       "#T_a94c0_row5_col4, #T_a94c0_row7_col7 {\n",
       "  front-zie: 6px;\n",
       "  background-color: #f8f8f8;\n",
       "  color: #000000;\n",
       "}\n",
       "#T_a94c0_row5_col10, #T_a94c0_row10_col7 {\n",
       "  front-zie: 6px;\n",
       "  background-color: #e8e8e8;\n",
       "  color: #000000;\n",
       "}\n",
       "#T_a94c0_row5_col11 {\n",
       "  front-zie: 6px;\n",
       "  background-color: #222222;\n",
       "  color: #f1f1f1;\n",
       "}\n",
       "#T_a94c0_row5_col13, #T_a94c0_row6_col12 {\n",
       "  front-zie: 6px;\n",
       "  background-color: #090909;\n",
       "  color: #f1f1f1;\n",
       "}\n",
       "#T_a94c0_row5_col14 {\n",
       "  front-zie: 6px;\n",
       "  background-color: #d0d0d0;\n",
       "  color: #000000;\n",
       "}\n",
       "#T_a94c0_row6_col10, #T_a94c0_row7_col11, #T_a94c0_row9_col6 {\n",
       "  front-zie: 6px;\n",
       "  background-color: #060606;\n",
       "  color: #f1f1f1;\n",
       "}\n",
       "#T_a94c0_row6_col13 {\n",
       "  front-zie: 6px;\n",
       "  background-color: #979797;\n",
       "  color: #f1f1f1;\n",
       "}\n",
       "#T_a94c0_row7_col8 {\n",
       "  front-zie: 6px;\n",
       "  background-color: #b6b6b6;\n",
       "  color: #000000;\n",
       "}\n",
       "#T_a94c0_row7_col9 {\n",
       "  front-zie: 6px;\n",
       "  background-color: #252525;\n",
       "  color: #f1f1f1;\n",
       "}\n",
       "#T_a94c0_row7_col12 {\n",
       "  front-zie: 6px;\n",
       "  background-color: #999999;\n",
       "  color: #f1f1f1;\n",
       "}\n",
       "#T_a94c0_row8_col5 {\n",
       "  front-zie: 6px;\n",
       "  background-color: #f9f9f9;\n",
       "  color: #000000;\n",
       "}\n",
       "#T_a94c0_row8_col7 {\n",
       "  front-zie: 6px;\n",
       "  background-color: #101010;\n",
       "  color: #f1f1f1;\n",
       "}\n",
       "#T_a94c0_row8_col9, #T_a94c0_row9_col9 {\n",
       "  front-zie: 6px;\n",
       "  background-color: #020202;\n",
       "  color: #f1f1f1;\n",
       "}\n",
       "#T_a94c0_row8_col11 {\n",
       "  front-zie: 6px;\n",
       "  background-color: #545454;\n",
       "  color: #f1f1f1;\n",
       "}\n",
       "#T_a94c0_row8_col12 {\n",
       "  front-zie: 6px;\n",
       "  background-color: #f1f1f1;\n",
       "  color: #000000;\n",
       "}\n",
       "#T_a94c0_row9_col5 {\n",
       "  front-zie: 6px;\n",
       "  background-color: #f7f7f7;\n",
       "  color: #000000;\n",
       "}\n",
       "#T_a94c0_row9_col7 {\n",
       "  front-zie: 6px;\n",
       "  background-color: #030303;\n",
       "  color: #f1f1f1;\n",
       "}\n",
       "#T_a94c0_row9_col12 {\n",
       "  front-zie: 6px;\n",
       "  background-color: #181818;\n",
       "  color: #f1f1f1;\n",
       "}\n",
       "#T_a94c0_row9_col13 {\n",
       "  front-zie: 6px;\n",
       "  background-color: #303030;\n",
       "  color: #f1f1f1;\n",
       "}\n",
       "#T_a94c0_row9_col14 {\n",
       "  front-zie: 6px;\n",
       "  background-color: #a9a9a9;\n",
       "  color: #f1f1f1;\n",
       "}\n",
       "#T_a94c0_row9_col15 {\n",
       "  front-zie: 6px;\n",
       "  background-color: #fefefe;\n",
       "  color: #000000;\n",
       "}\n",
       "#T_a94c0_row10_col8, #T_a94c0_row10_col9 {\n",
       "  front-zie: 6px;\n",
       "  background-color: #bababa;\n",
       "  color: #000000;\n",
       "}\n",
       "#T_a94c0_row10_col10 {\n",
       "  front-zie: 6px;\n",
       "  background-color: #393939;\n",
       "  color: #f1f1f1;\n",
       "}\n",
       "</style>\n",
       "<table id=\"T_a94c0\">\n",
       "  <thead>\n",
       "    <tr>\n",
       "      <th class=\"blank level0\" >&nbsp;</th>\n",
       "      <th id=\"T_a94c0_level0_col0\" class=\"col_heading level0 col0\" >0</th>\n",
       "      <th id=\"T_a94c0_level0_col1\" class=\"col_heading level0 col1\" >1</th>\n",
       "      <th id=\"T_a94c0_level0_col2\" class=\"col_heading level0 col2\" >2</th>\n",
       "      <th id=\"T_a94c0_level0_col3\" class=\"col_heading level0 col3\" >3</th>\n",
       "      <th id=\"T_a94c0_level0_col4\" class=\"col_heading level0 col4\" >4</th>\n",
       "      <th id=\"T_a94c0_level0_col5\" class=\"col_heading level0 col5\" >5</th>\n",
       "      <th id=\"T_a94c0_level0_col6\" class=\"col_heading level0 col6\" >6</th>\n",
       "      <th id=\"T_a94c0_level0_col7\" class=\"col_heading level0 col7\" >7</th>\n",
       "      <th id=\"T_a94c0_level0_col8\" class=\"col_heading level0 col8\" >8</th>\n",
       "      <th id=\"T_a94c0_level0_col9\" class=\"col_heading level0 col9\" >9</th>\n",
       "      <th id=\"T_a94c0_level0_col10\" class=\"col_heading level0 col10\" >10</th>\n",
       "      <th id=\"T_a94c0_level0_col11\" class=\"col_heading level0 col11\" >11</th>\n",
       "      <th id=\"T_a94c0_level0_col12\" class=\"col_heading level0 col12\" >12</th>\n",
       "      <th id=\"T_a94c0_level0_col13\" class=\"col_heading level0 col13\" >13</th>\n",
       "      <th id=\"T_a94c0_level0_col14\" class=\"col_heading level0 col14\" >14</th>\n",
       "      <th id=\"T_a94c0_level0_col15\" class=\"col_heading level0 col15\" >15</th>\n",
       "      <th id=\"T_a94c0_level0_col16\" class=\"col_heading level0 col16\" >16</th>\n",
       "      <th id=\"T_a94c0_level0_col17\" class=\"col_heading level0 col17\" >17</th>\n",
       "    </tr>\n",
       "  </thead>\n",
       "  <tbody>\n",
       "    <tr>\n",
       "      <th id=\"T_a94c0_level0_row0\" class=\"row_heading level0 row0\" >0</th>\n",
       "      <td id=\"T_a94c0_row0_col0\" class=\"data row0 col0\" >0</td>\n",
       "      <td id=\"T_a94c0_row0_col1\" class=\"data row0 col1\" >0</td>\n",
       "      <td id=\"T_a94c0_row0_col2\" class=\"data row0 col2\" >0</td>\n",
       "      <td id=\"T_a94c0_row0_col3\" class=\"data row0 col3\" >0</td>\n",
       "      <td id=\"T_a94c0_row0_col4\" class=\"data row0 col4\" >0</td>\n",
       "      <td id=\"T_a94c0_row0_col5\" class=\"data row0 col5\" >0</td>\n",
       "      <td id=\"T_a94c0_row0_col6\" class=\"data row0 col6\" >0</td>\n",
       "      <td id=\"T_a94c0_row0_col7\" class=\"data row0 col7\" >0</td>\n",
       "      <td id=\"T_a94c0_row0_col8\" class=\"data row0 col8\" >0</td>\n",
       "      <td id=\"T_a94c0_row0_col9\" class=\"data row0 col9\" >0</td>\n",
       "      <td id=\"T_a94c0_row0_col10\" class=\"data row0 col10\" >0</td>\n",
       "      <td id=\"T_a94c0_row0_col11\" class=\"data row0 col11\" >0</td>\n",
       "      <td id=\"T_a94c0_row0_col12\" class=\"data row0 col12\" >0</td>\n",
       "      <td id=\"T_a94c0_row0_col13\" class=\"data row0 col13\" >0</td>\n",
       "      <td id=\"T_a94c0_row0_col14\" class=\"data row0 col14\" >0</td>\n",
       "      <td id=\"T_a94c0_row0_col15\" class=\"data row0 col15\" >0</td>\n",
       "      <td id=\"T_a94c0_row0_col16\" class=\"data row0 col16\" >0</td>\n",
       "      <td id=\"T_a94c0_row0_col17\" class=\"data row0 col17\" >0</td>\n",
       "    </tr>\n",
       "    <tr>\n",
       "      <th id=\"T_a94c0_level0_row1\" class=\"row_heading level0 row1\" >1</th>\n",
       "      <td id=\"T_a94c0_row1_col0\" class=\"data row1 col0\" >0</td>\n",
       "      <td id=\"T_a94c0_row1_col1\" class=\"data row1 col1\" >0</td>\n",
       "      <td id=\"T_a94c0_row1_col2\" class=\"data row1 col2\" >0</td>\n",
       "      <td id=\"T_a94c0_row1_col3\" class=\"data row1 col3\" >0</td>\n",
       "      <td id=\"T_a94c0_row1_col4\" class=\"data row1 col4\" >0</td>\n",
       "      <td id=\"T_a94c0_row1_col5\" class=\"data row1 col5\" >29</td>\n",
       "      <td id=\"T_a94c0_row1_col6\" class=\"data row1 col6\" >150</td>\n",
       "      <td id=\"T_a94c0_row1_col7\" class=\"data row1 col7\" >195</td>\n",
       "      <td id=\"T_a94c0_row1_col8\" class=\"data row1 col8\" >254</td>\n",
       "      <td id=\"T_a94c0_row1_col9\" class=\"data row1 col9\" >255</td>\n",
       "      <td id=\"T_a94c0_row1_col10\" class=\"data row1 col10\" >254</td>\n",
       "      <td id=\"T_a94c0_row1_col11\" class=\"data row1 col11\" >176</td>\n",
       "      <td id=\"T_a94c0_row1_col12\" class=\"data row1 col12\" >193</td>\n",
       "      <td id=\"T_a94c0_row1_col13\" class=\"data row1 col13\" >150</td>\n",
       "      <td id=\"T_a94c0_row1_col14\" class=\"data row1 col14\" >96</td>\n",
       "      <td id=\"T_a94c0_row1_col15\" class=\"data row1 col15\" >0</td>\n",
       "      <td id=\"T_a94c0_row1_col16\" class=\"data row1 col16\" >0</td>\n",
       "      <td id=\"T_a94c0_row1_col17\" class=\"data row1 col17\" >0</td>\n",
       "    </tr>\n",
       "    <tr>\n",
       "      <th id=\"T_a94c0_level0_row2\" class=\"row_heading level0 row2\" >2</th>\n",
       "      <td id=\"T_a94c0_row2_col0\" class=\"data row2 col0\" >0</td>\n",
       "      <td id=\"T_a94c0_row2_col1\" class=\"data row2 col1\" >0</td>\n",
       "      <td id=\"T_a94c0_row2_col2\" class=\"data row2 col2\" >0</td>\n",
       "      <td id=\"T_a94c0_row2_col3\" class=\"data row2 col3\" >48</td>\n",
       "      <td id=\"T_a94c0_row2_col4\" class=\"data row2 col4\" >166</td>\n",
       "      <td id=\"T_a94c0_row2_col5\" class=\"data row2 col5\" >224</td>\n",
       "      <td id=\"T_a94c0_row2_col6\" class=\"data row2 col6\" >253</td>\n",
       "      <td id=\"T_a94c0_row2_col7\" class=\"data row2 col7\" >253</td>\n",
       "      <td id=\"T_a94c0_row2_col8\" class=\"data row2 col8\" >234</td>\n",
       "      <td id=\"T_a94c0_row2_col9\" class=\"data row2 col9\" >196</td>\n",
       "      <td id=\"T_a94c0_row2_col10\" class=\"data row2 col10\" >253</td>\n",
       "      <td id=\"T_a94c0_row2_col11\" class=\"data row2 col11\" >253</td>\n",
       "      <td id=\"T_a94c0_row2_col12\" class=\"data row2 col12\" >253</td>\n",
       "      <td id=\"T_a94c0_row2_col13\" class=\"data row2 col13\" >253</td>\n",
       "      <td id=\"T_a94c0_row2_col14\" class=\"data row2 col14\" >233</td>\n",
       "      <td id=\"T_a94c0_row2_col15\" class=\"data row2 col15\" >0</td>\n",
       "      <td id=\"T_a94c0_row2_col16\" class=\"data row2 col16\" >0</td>\n",
       "      <td id=\"T_a94c0_row2_col17\" class=\"data row2 col17\" >0</td>\n",
       "    </tr>\n",
       "    <tr>\n",
       "      <th id=\"T_a94c0_level0_row3\" class=\"row_heading level0 row3\" >3</th>\n",
       "      <td id=\"T_a94c0_row3_col0\" class=\"data row3 col0\" >0</td>\n",
       "      <td id=\"T_a94c0_row3_col1\" class=\"data row3 col1\" >93</td>\n",
       "      <td id=\"T_a94c0_row3_col2\" class=\"data row3 col2\" >244</td>\n",
       "      <td id=\"T_a94c0_row3_col3\" class=\"data row3 col3\" >249</td>\n",
       "      <td id=\"T_a94c0_row3_col4\" class=\"data row3 col4\" >253</td>\n",
       "      <td id=\"T_a94c0_row3_col5\" class=\"data row3 col5\" >187</td>\n",
       "      <td id=\"T_a94c0_row3_col6\" class=\"data row3 col6\" >46</td>\n",
       "      <td id=\"T_a94c0_row3_col7\" class=\"data row3 col7\" >10</td>\n",
       "      <td id=\"T_a94c0_row3_col8\" class=\"data row3 col8\" >8</td>\n",
       "      <td id=\"T_a94c0_row3_col9\" class=\"data row3 col9\" >4</td>\n",
       "      <td id=\"T_a94c0_row3_col10\" class=\"data row3 col10\" >10</td>\n",
       "      <td id=\"T_a94c0_row3_col11\" class=\"data row3 col11\" >194</td>\n",
       "      <td id=\"T_a94c0_row3_col12\" class=\"data row3 col12\" >253</td>\n",
       "      <td id=\"T_a94c0_row3_col13\" class=\"data row3 col13\" >253</td>\n",
       "      <td id=\"T_a94c0_row3_col14\" class=\"data row3 col14\" >233</td>\n",
       "      <td id=\"T_a94c0_row3_col15\" class=\"data row3 col15\" >0</td>\n",
       "      <td id=\"T_a94c0_row3_col16\" class=\"data row3 col16\" >0</td>\n",
       "      <td id=\"T_a94c0_row3_col17\" class=\"data row3 col17\" >0</td>\n",
       "    </tr>\n",
       "    <tr>\n",
       "      <th id=\"T_a94c0_level0_row4\" class=\"row_heading level0 row4\" >4</th>\n",
       "      <td id=\"T_a94c0_row4_col0\" class=\"data row4 col0\" >0</td>\n",
       "      <td id=\"T_a94c0_row4_col1\" class=\"data row4 col1\" >107</td>\n",
       "      <td id=\"T_a94c0_row4_col2\" class=\"data row4 col2\" >253</td>\n",
       "      <td id=\"T_a94c0_row4_col3\" class=\"data row4 col3\" >253</td>\n",
       "      <td id=\"T_a94c0_row4_col4\" class=\"data row4 col4\" >230</td>\n",
       "      <td id=\"T_a94c0_row4_col5\" class=\"data row4 col5\" >48</td>\n",
       "      <td id=\"T_a94c0_row4_col6\" class=\"data row4 col6\" >0</td>\n",
       "      <td id=\"T_a94c0_row4_col7\" class=\"data row4 col7\" >0</td>\n",
       "      <td id=\"T_a94c0_row4_col8\" class=\"data row4 col8\" >0</td>\n",
       "      <td id=\"T_a94c0_row4_col9\" class=\"data row4 col9\" >0</td>\n",
       "      <td id=\"T_a94c0_row4_col10\" class=\"data row4 col10\" >0</td>\n",
       "      <td id=\"T_a94c0_row4_col11\" class=\"data row4 col11\" >192</td>\n",
       "      <td id=\"T_a94c0_row4_col12\" class=\"data row4 col12\" >253</td>\n",
       "      <td id=\"T_a94c0_row4_col13\" class=\"data row4 col13\" >253</td>\n",
       "      <td id=\"T_a94c0_row4_col14\" class=\"data row4 col14\" >156</td>\n",
       "      <td id=\"T_a94c0_row4_col15\" class=\"data row4 col15\" >0</td>\n",
       "      <td id=\"T_a94c0_row4_col16\" class=\"data row4 col16\" >0</td>\n",
       "      <td id=\"T_a94c0_row4_col17\" class=\"data row4 col17\" >0</td>\n",
       "    </tr>\n",
       "    <tr>\n",
       "      <th id=\"T_a94c0_level0_row5\" class=\"row_heading level0 row5\" >5</th>\n",
       "      <td id=\"T_a94c0_row5_col0\" class=\"data row5 col0\" >0</td>\n",
       "      <td id=\"T_a94c0_row5_col1\" class=\"data row5 col1\" >3</td>\n",
       "      <td id=\"T_a94c0_row5_col2\" class=\"data row5 col2\" >20</td>\n",
       "      <td id=\"T_a94c0_row5_col3\" class=\"data row5 col3\" >20</td>\n",
       "      <td id=\"T_a94c0_row5_col4\" class=\"data row5 col4\" >15</td>\n",
       "      <td id=\"T_a94c0_row5_col5\" class=\"data row5 col5\" >0</td>\n",
       "      <td id=\"T_a94c0_row5_col6\" class=\"data row5 col6\" >0</td>\n",
       "      <td id=\"T_a94c0_row5_col7\" class=\"data row5 col7\" >0</td>\n",
       "      <td id=\"T_a94c0_row5_col8\" class=\"data row5 col8\" >0</td>\n",
       "      <td id=\"T_a94c0_row5_col9\" class=\"data row5 col9\" >0</td>\n",
       "      <td id=\"T_a94c0_row5_col10\" class=\"data row5 col10\" >43</td>\n",
       "      <td id=\"T_a94c0_row5_col11\" class=\"data row5 col11\" >224</td>\n",
       "      <td id=\"T_a94c0_row5_col12\" class=\"data row5 col12\" >253</td>\n",
       "      <td id=\"T_a94c0_row5_col13\" class=\"data row5 col13\" >245</td>\n",
       "      <td id=\"T_a94c0_row5_col14\" class=\"data row5 col14\" >74</td>\n",
       "      <td id=\"T_a94c0_row5_col15\" class=\"data row5 col15\" >0</td>\n",
       "      <td id=\"T_a94c0_row5_col16\" class=\"data row5 col16\" >0</td>\n",
       "      <td id=\"T_a94c0_row5_col17\" class=\"data row5 col17\" >0</td>\n",
       "    </tr>\n",
       "    <tr>\n",
       "      <th id=\"T_a94c0_level0_row6\" class=\"row_heading level0 row6\" >6</th>\n",
       "      <td id=\"T_a94c0_row6_col0\" class=\"data row6 col0\" >0</td>\n",
       "      <td id=\"T_a94c0_row6_col1\" class=\"data row6 col1\" >0</td>\n",
       "      <td id=\"T_a94c0_row6_col2\" class=\"data row6 col2\" >0</td>\n",
       "      <td id=\"T_a94c0_row6_col3\" class=\"data row6 col3\" >0</td>\n",
       "      <td id=\"T_a94c0_row6_col4\" class=\"data row6 col4\" >0</td>\n",
       "      <td id=\"T_a94c0_row6_col5\" class=\"data row6 col5\" >0</td>\n",
       "      <td id=\"T_a94c0_row6_col6\" class=\"data row6 col6\" >0</td>\n",
       "      <td id=\"T_a94c0_row6_col7\" class=\"data row6 col7\" >0</td>\n",
       "      <td id=\"T_a94c0_row6_col8\" class=\"data row6 col8\" >0</td>\n",
       "      <td id=\"T_a94c0_row6_col9\" class=\"data row6 col9\" >0</td>\n",
       "      <td id=\"T_a94c0_row6_col10\" class=\"data row6 col10\" >249</td>\n",
       "      <td id=\"T_a94c0_row6_col11\" class=\"data row6 col11\" >253</td>\n",
       "      <td id=\"T_a94c0_row6_col12\" class=\"data row6 col12\" >245</td>\n",
       "      <td id=\"T_a94c0_row6_col13\" class=\"data row6 col13\" >126</td>\n",
       "      <td id=\"T_a94c0_row6_col14\" class=\"data row6 col14\" >0</td>\n",
       "      <td id=\"T_a94c0_row6_col15\" class=\"data row6 col15\" >0</td>\n",
       "      <td id=\"T_a94c0_row6_col16\" class=\"data row6 col16\" >0</td>\n",
       "      <td id=\"T_a94c0_row6_col17\" class=\"data row6 col17\" >0</td>\n",
       "    </tr>\n",
       "    <tr>\n",
       "      <th id=\"T_a94c0_level0_row7\" class=\"row_heading level0 row7\" >7</th>\n",
       "      <td id=\"T_a94c0_row7_col0\" class=\"data row7 col0\" >0</td>\n",
       "      <td id=\"T_a94c0_row7_col1\" class=\"data row7 col1\" >0</td>\n",
       "      <td id=\"T_a94c0_row7_col2\" class=\"data row7 col2\" >0</td>\n",
       "      <td id=\"T_a94c0_row7_col3\" class=\"data row7 col3\" >0</td>\n",
       "      <td id=\"T_a94c0_row7_col4\" class=\"data row7 col4\" >0</td>\n",
       "      <td id=\"T_a94c0_row7_col5\" class=\"data row7 col5\" >0</td>\n",
       "      <td id=\"T_a94c0_row7_col6\" class=\"data row7 col6\" >0</td>\n",
       "      <td id=\"T_a94c0_row7_col7\" class=\"data row7 col7\" >14</td>\n",
       "      <td id=\"T_a94c0_row7_col8\" class=\"data row7 col8\" >101</td>\n",
       "      <td id=\"T_a94c0_row7_col9\" class=\"data row7 col9\" >223</td>\n",
       "      <td id=\"T_a94c0_row7_col10\" class=\"data row7 col10\" >253</td>\n",
       "      <td id=\"T_a94c0_row7_col11\" class=\"data row7 col11\" >248</td>\n",
       "      <td id=\"T_a94c0_row7_col12\" class=\"data row7 col12\" >124</td>\n",
       "      <td id=\"T_a94c0_row7_col13\" class=\"data row7 col13\" >0</td>\n",
       "      <td id=\"T_a94c0_row7_col14\" class=\"data row7 col14\" >0</td>\n",
       "      <td id=\"T_a94c0_row7_col15\" class=\"data row7 col15\" >0</td>\n",
       "      <td id=\"T_a94c0_row7_col16\" class=\"data row7 col16\" >0</td>\n",
       "      <td id=\"T_a94c0_row7_col17\" class=\"data row7 col17\" >0</td>\n",
       "    </tr>\n",
       "    <tr>\n",
       "      <th id=\"T_a94c0_level0_row8\" class=\"row_heading level0 row8\" >8</th>\n",
       "      <td id=\"T_a94c0_row8_col0\" class=\"data row8 col0\" >0</td>\n",
       "      <td id=\"T_a94c0_row8_col1\" class=\"data row8 col1\" >0</td>\n",
       "      <td id=\"T_a94c0_row8_col2\" class=\"data row8 col2\" >0</td>\n",
       "      <td id=\"T_a94c0_row8_col3\" class=\"data row8 col3\" >0</td>\n",
       "      <td id=\"T_a94c0_row8_col4\" class=\"data row8 col4\" >0</td>\n",
       "      <td id=\"T_a94c0_row8_col5\" class=\"data row8 col5\" >11</td>\n",
       "      <td id=\"T_a94c0_row8_col6\" class=\"data row8 col6\" >166</td>\n",
       "      <td id=\"T_a94c0_row8_col7\" class=\"data row8 col7\" >239</td>\n",
       "      <td id=\"T_a94c0_row8_col8\" class=\"data row8 col8\" >253</td>\n",
       "      <td id=\"T_a94c0_row8_col9\" class=\"data row8 col9\" >253</td>\n",
       "      <td id=\"T_a94c0_row8_col10\" class=\"data row8 col10\" >253</td>\n",
       "      <td id=\"T_a94c0_row8_col11\" class=\"data row8 col11\" >187</td>\n",
       "      <td id=\"T_a94c0_row8_col12\" class=\"data row8 col12\" >30</td>\n",
       "      <td id=\"T_a94c0_row8_col13\" class=\"data row8 col13\" >0</td>\n",
       "      <td id=\"T_a94c0_row8_col14\" class=\"data row8 col14\" >0</td>\n",
       "      <td id=\"T_a94c0_row8_col15\" class=\"data row8 col15\" >0</td>\n",
       "      <td id=\"T_a94c0_row8_col16\" class=\"data row8 col16\" >0</td>\n",
       "      <td id=\"T_a94c0_row8_col17\" class=\"data row8 col17\" >0</td>\n",
       "    </tr>\n",
       "    <tr>\n",
       "      <th id=\"T_a94c0_level0_row9\" class=\"row_heading level0 row9\" >9</th>\n",
       "      <td id=\"T_a94c0_row9_col0\" class=\"data row9 col0\" >0</td>\n",
       "      <td id=\"T_a94c0_row9_col1\" class=\"data row9 col1\" >0</td>\n",
       "      <td id=\"T_a94c0_row9_col2\" class=\"data row9 col2\" >0</td>\n",
       "      <td id=\"T_a94c0_row9_col3\" class=\"data row9 col3\" >0</td>\n",
       "      <td id=\"T_a94c0_row9_col4\" class=\"data row9 col4\" >0</td>\n",
       "      <td id=\"T_a94c0_row9_col5\" class=\"data row9 col5\" >16</td>\n",
       "      <td id=\"T_a94c0_row9_col6\" class=\"data row9 col6\" >248</td>\n",
       "      <td id=\"T_a94c0_row9_col7\" class=\"data row9 col7\" >250</td>\n",
       "      <td id=\"T_a94c0_row9_col8\" class=\"data row9 col8\" >253</td>\n",
       "      <td id=\"T_a94c0_row9_col9\" class=\"data row9 col9\" >253</td>\n",
       "      <td id=\"T_a94c0_row9_col10\" class=\"data row9 col10\" >253</td>\n",
       "      <td id=\"T_a94c0_row9_col11\" class=\"data row9 col11\" >253</td>\n",
       "      <td id=\"T_a94c0_row9_col12\" class=\"data row9 col12\" >232</td>\n",
       "      <td id=\"T_a94c0_row9_col13\" class=\"data row9 col13\" >213</td>\n",
       "      <td id=\"T_a94c0_row9_col14\" class=\"data row9 col14\" >111</td>\n",
       "      <td id=\"T_a94c0_row9_col15\" class=\"data row9 col15\" >2</td>\n",
       "      <td id=\"T_a94c0_row9_col16\" class=\"data row9 col16\" >0</td>\n",
       "      <td id=\"T_a94c0_row9_col17\" class=\"data row9 col17\" >0</td>\n",
       "    </tr>\n",
       "    <tr>\n",
       "      <th id=\"T_a94c0_level0_row10\" class=\"row_heading level0 row10\" >10</th>\n",
       "      <td id=\"T_a94c0_row10_col0\" class=\"data row10 col0\" >0</td>\n",
       "      <td id=\"T_a94c0_row10_col1\" class=\"data row10 col1\" >0</td>\n",
       "      <td id=\"T_a94c0_row10_col2\" class=\"data row10 col2\" >0</td>\n",
       "      <td id=\"T_a94c0_row10_col3\" class=\"data row10 col3\" >0</td>\n",
       "      <td id=\"T_a94c0_row10_col4\" class=\"data row10 col4\" >0</td>\n",
       "      <td id=\"T_a94c0_row10_col5\" class=\"data row10 col5\" >0</td>\n",
       "      <td id=\"T_a94c0_row10_col6\" class=\"data row10 col6\" >0</td>\n",
       "      <td id=\"T_a94c0_row10_col7\" class=\"data row10 col7\" >43</td>\n",
       "      <td id=\"T_a94c0_row10_col8\" class=\"data row10 col8\" >98</td>\n",
       "      <td id=\"T_a94c0_row10_col9\" class=\"data row10 col9\" >98</td>\n",
       "      <td id=\"T_a94c0_row10_col10\" class=\"data row10 col10\" >208</td>\n",
       "      <td id=\"T_a94c0_row10_col11\" class=\"data row10 col11\" >253</td>\n",
       "      <td id=\"T_a94c0_row10_col12\" class=\"data row10 col12\" >253</td>\n",
       "      <td id=\"T_a94c0_row10_col13\" class=\"data row10 col13\" >253</td>\n",
       "      <td id=\"T_a94c0_row10_col14\" class=\"data row10 col14\" >253</td>\n",
       "      <td id=\"T_a94c0_row10_col15\" class=\"data row10 col15\" >187</td>\n",
       "      <td id=\"T_a94c0_row10_col16\" class=\"data row10 col16\" >22</td>\n",
       "      <td id=\"T_a94c0_row10_col17\" class=\"data row10 col17\" >0</td>\n",
       "    </tr>\n",
       "  </tbody>\n",
       "</table>\n"
      ],
      "text/plain": [
       "<pandas.io.formats.style.Styler at 0x7f35eb223c10>"
      ]
     },
     "execution_count": 8,
     "metadata": {},
     "output_type": "execute_result"
    }
   ],
   "source": [
    "im3_t = tensor(im3)\n",
    "df = pd.DataFrame(im3_t[4:15,4:22])\n",
    "df.style.set_properties(**{'front-zie':'6px'}).background_gradient('Greys')"
   ]
  },
  {
   "cell_type": "markdown",
   "id": "a507540a-e7fd-4ae1-98a9-7752d75ee76d",
   "metadata": {},
   "source": [
    "所有3和7的图片的集合，每个图片的像素认为是2阶张量"
   ]
  },
  {
   "cell_type": "code",
   "execution_count": 9,
   "id": "55bd45f1-0328-4cea-8a81-a5c4f841cf19",
   "metadata": {
    "execution": {
     "iopub.execute_input": "2023-04-19T03:22:02.157461Z",
     "iopub.status.busy": "2023-04-19T03:22:02.156941Z",
     "iopub.status.idle": "2023-04-19T03:22:05.348728Z",
     "shell.execute_reply": "2023-04-19T03:22:05.347443Z",
     "shell.execute_reply.started": "2023-04-19T03:22:02.157413Z"
    }
   },
   "outputs": [
    {
     "data": {
      "text/plain": [
       "(6131, 6265)"
      ]
     },
     "execution_count": 9,
     "metadata": {},
     "output_type": "execute_result"
    }
   ],
   "source": [
    "three_tensors = [tensor(Image.open(o)) for o in threes]\n",
    "seven_tensors = [tensor(Image.open(o)) for o in sevens]\n",
    "len(three_tensors),len(seven_tensors)"
   ]
  },
  {
   "cell_type": "code",
   "execution_count": 10,
   "id": "8af2efb2-c95f-4559-ba38-325512a627cf",
   "metadata": {
    "execution": {
     "iopub.execute_input": "2023-04-19T03:22:05.355283Z",
     "iopub.status.busy": "2023-04-19T03:22:05.354221Z",
     "iopub.status.idle": "2023-04-19T03:22:05.436293Z",
     "shell.execute_reply": "2023-04-19T03:22:05.434951Z",
     "shell.execute_reply.started": "2023-04-19T03:22:05.355234Z"
    }
   },
   "outputs": [
    {
     "data": {
      "text/plain": [
       "<AxesSubplot:>"
      ]
     },
     "execution_count": 10,
     "metadata": {},
     "output_type": "execute_result"
    },
    {
     "data": {
      "image/png": "[encoded data removed]",
      "text/plain": [
       "<Figure size 72x72 with 1 Axes>"
      ]
     },
     "metadata": {
      "needs_background": "light"
     },
     "output_type": "display_data"
    }
   ],
   "source": [
    "show_image(three_tensors[1])"
   ]
  },
  {
   "cell_type": "code",
   "execution_count": 11,
   "id": "ff12d39a-99a0-4389-9e7f-6e73d761786a",
   "metadata": {
    "execution": {
     "iopub.execute_input": "2023-04-19T03:22:05.439254Z",
     "iopub.status.busy": "2023-04-19T03:22:05.438215Z",
     "iopub.status.idle": "2023-04-19T03:22:05.447246Z",
     "shell.execute_reply": "2023-04-19T03:22:05.445942Z",
     "shell.execute_reply.started": "2023-04-19T03:22:05.439211Z"
    }
   },
   "outputs": [
    {
     "data": {
      "text/plain": [
       "list"
      ]
     },
     "execution_count": 11,
     "metadata": {},
     "output_type": "execute_result"
    }
   ],
   "source": [
    "type(seven_tensors)"
   ]
  },
  {
   "cell_type": "markdown",
   "id": "0abc3480-65cc-4c4d-8d8f-608c6a3b23a4",
   "metadata": {},
   "source": [
    "`stack` 进行张量拼接 有 6131个 (28,28)的图片张量拼接为(6131,28,28) /255是为了归一化，避免梯度过大，造成梯度爆炸，梯度会影响参数的调整率"
   ]
  },
  {
   "cell_type": "code",
   "execution_count": 12,
   "id": "5705bf37-5c68-4428-8851-54ed5a19cb23",
   "metadata": {
    "execution": {
     "iopub.execute_input": "2023-04-19T03:22:05.449967Z",
     "iopub.status.busy": "2023-04-19T03:22:05.449488Z",
     "iopub.status.idle": "2023-04-19T03:22:05.535479Z",
     "shell.execute_reply": "2023-04-19T03:22:05.534502Z",
     "shell.execute_reply.started": "2023-04-19T03:22:05.449927Z"
    }
   },
   "outputs": [
    {
     "data": {
      "text/plain": [
       "torch.Size([6131, 28, 28])"
      ]
     },
     "execution_count": 12,
     "metadata": {},
     "output_type": "execute_result"
    }
   ],
   "source": [
    "stacked_sevens = torch.stack(seven_tensors).float()/255\n",
    "stacked_threes = torch.stack(three_tensors).float()/255\n",
    "stacked_threes.shape"
   ]
  },
  {
   "cell_type": "markdown",
   "id": "527ff737-9386-41a3-ac90-3895f0bcac3d",
   "metadata": {},
   "source": [
    "张量的shape的len是`阶` 也可以叫维度吧"
   ]
  },
  {
   "cell_type": "code",
   "execution_count": 13,
   "id": "3ec6c123-f356-4c26-9ebd-c76cfabd70df",
   "metadata": {
    "execution": {
     "iopub.execute_input": "2023-04-19T03:22:05.537325Z",
     "iopub.status.busy": "2023-04-19T03:22:05.536966Z",
     "iopub.status.idle": "2023-04-19T03:22:05.545460Z",
     "shell.execute_reply": "2023-04-19T03:22:05.544179Z",
     "shell.execute_reply.started": "2023-04-19T03:22:05.537296Z"
    }
   },
   "outputs": [
    {
     "data": {
      "text/plain": [
       "3"
      ]
     },
     "execution_count": 13,
     "metadata": {},
     "output_type": "execute_result"
    }
   ],
   "source": [
    "len(stacked_threes.shape)"
   ]
  },
  {
   "cell_type": "markdown",
   "id": "54abb67f-22f5-4135-95b4-ee403473a986",
   "metadata": {},
   "source": [
    "所有图片拼接成的一个张量取平均值，看看平均来的3是怎么样的"
   ]
  },
  {
   "cell_type": "markdown",
   "id": "8d16cdd6-9b4d-49aa-9955-5642fed2a117",
   "metadata": {},
   "source": [
    "mean()会在所有维度上取平均，结果是一个 zero rank值，不是要的平均图片"
   ]
  },
  {
   "cell_type": "code",
   "execution_count": 14,
   "id": "9b12977c-79fd-45f1-9197-81e068645cbc",
   "metadata": {
    "execution": {
     "iopub.execute_input": "2023-04-19T03:22:05.547152Z",
     "iopub.status.busy": "2023-04-19T03:22:05.546918Z",
     "iopub.status.idle": "2023-04-19T03:22:05.575567Z",
     "shell.execute_reply": "2023-04-19T03:22:05.574473Z",
     "shell.execute_reply.started": "2023-04-19T03:22:05.547125Z"
    }
   },
   "outputs": [
    {
     "data": {
      "text/plain": [
       "tensor(0.1415)"
      ]
     },
     "execution_count": 14,
     "metadata": {},
     "output_type": "execute_result"
    }
   ],
   "source": [
    "stacked_threes.mean()"
   ]
  },
  {
   "cell_type": "markdown",
   "id": "47b003be-89ee-4dad-892a-f0b454a37cad",
   "metadata": {},
   "source": [
    "mean(0) 表示在0维上取平均，所以结果还是一个图片"
   ]
  },
  {
   "cell_type": "code",
   "execution_count": 15,
   "id": "521d8f9e-7980-4b54-8b53-e13e77672c0c",
   "metadata": {
    "execution": {
     "iopub.execute_input": "2023-04-19T03:22:05.577250Z",
     "iopub.status.busy": "2023-04-19T03:22:05.576922Z",
     "iopub.status.idle": "2023-04-19T03:22:05.635097Z",
     "shell.execute_reply": "2023-04-19T03:22:05.633225Z",
     "shell.execute_reply.started": "2023-04-19T03:22:05.577203Z"
    }
   },
   "outputs": [
    {
     "data": {
      "text/plain": [
       "<AxesSubplot:>"
      ]
     },
     "execution_count": 15,
     "metadata": {},
     "output_type": "execute_result"
    },
    {
     "data": {
      "image/png": "[encoded data removed]",
      "text/plain": [
       "<Figure size 72x72 with 1 Axes>"
      ]
     },
     "metadata": {
      "needs_background": "light"
     },
     "output_type": "display_data"
    }
   ],
   "source": [
    "mean3 = stacked_threes.mean(0)\n",
    "show_image(mean3)"
   ]
  },
  {
   "cell_type": "code",
   "execution_count": 16,
   "id": "27a2e6e5-ae1d-4718-a223-3c36932a52d1",
   "metadata": {
    "execution": {
     "iopub.execute_input": "2023-04-19T03:22:05.636817Z",
     "iopub.status.busy": "2023-04-19T03:22:05.636501Z",
     "iopub.status.idle": "2023-04-19T03:22:05.705047Z",
     "shell.execute_reply": "2023-04-19T03:22:05.703272Z",
     "shell.execute_reply.started": "2023-04-19T03:22:05.636790Z"
    }
   },
   "outputs": [
    {
     "data": {
      "text/plain": [
       "<AxesSubplot:>"
      ]
     },
     "execution_count": 16,
     "metadata": {},
     "output_type": "execute_result"
    },
    {
     "data": {
      "image/png": "[encoded data removed]",
      "text/plain": [
       "<Figure size 72x72 with 1 Axes>"
      ]
     },
     "metadata": {
      "needs_background": "light"
     },
     "output_type": "display_data"
    }
   ],
   "source": [
    "mean7 = stacked_sevens.mean(0)\n",
    "show_image(mean7)"
   ]
  },
  {
   "cell_type": "code",
   "execution_count": 17,
   "id": "0cfa105c-91cc-4d55-b2b9-fc56b71ae32a",
   "metadata": {
    "execution": {
     "iopub.execute_input": "2023-04-19T03:22:05.706583Z",
     "iopub.status.busy": "2023-04-19T03:22:05.706311Z",
     "iopub.status.idle": "2023-04-19T03:22:05.759887Z",
     "shell.execute_reply": "2023-04-19T03:22:05.758504Z",
     "shell.execute_reply.started": "2023-04-19T03:22:05.706557Z"
    }
   },
   "outputs": [
    {
     "data": {
      "text/plain": [
       "<AxesSubplot:>"
      ]
     },
     "execution_count": 17,
     "metadata": {},
     "output_type": "execute_result"
    },
    {
     "data": {
      "image/png": "[encoded data removed]",
      "text/plain": [
       "<Figure size 72x72 with 1 Axes>"
      ]
     },
     "metadata": {
      "needs_background": "light"
     },
     "output_type": "display_data"
    }
   ],
   "source": [
    "a_3 = stacked_threes[1]\n",
    "show_image(a_3)"
   ]
  },
  {
   "cell_type": "markdown",
   "id": "2e08d65d-1131-41e2-8dbd-626c50d00611",
   "metadata": {},
   "source": [
    "可以分别计算下 这个 3 的张量和 平均的3和7的距离 ，取绝对值或者是平方差是为了拿到正数，不然有正有负很容易抵消"
   ]
  },
  {
   "cell_type": "code",
   "execution_count": 18,
   "id": "9fcf14a9-3997-4f2a-bf0e-71f2528ab207",
   "metadata": {
    "execution": {
     "iopub.execute_input": "2023-04-19T03:22:05.762358Z",
     "iopub.status.busy": "2023-04-19T03:22:05.761855Z",
     "iopub.status.idle": "2023-04-19T03:22:05.784579Z",
     "shell.execute_reply": "2023-04-19T03:22:05.783151Z",
     "shell.execute_reply.started": "2023-04-19T03:22:05.762316Z"
    }
   },
   "outputs": [
    {
     "data": {
      "text/plain": [
       "(tensor(0.1114), tensor(0.2021))"
      ]
     },
     "execution_count": 18,
     "metadata": {},
     "output_type": "execute_result"
    }
   ],
   "source": [
    "dist_3_abs = (a_3 - mean3).abs().mean()\n",
    "dist_3_sqr = ((a_3 - mean3)**2).mean().sqrt()\n",
    "dist_3_abs, dist_3_sqr"
   ]
  },
  {
   "cell_type": "code",
   "execution_count": 19,
   "id": "51968d40-8b59-4f0c-b47e-212e4416d802",
   "metadata": {
    "execution": {
     "iopub.execute_input": "2023-04-19T03:22:05.787117Z",
     "iopub.status.busy": "2023-04-19T03:22:05.786716Z",
     "iopub.status.idle": "2023-04-19T03:22:05.798268Z",
     "shell.execute_reply": "2023-04-19T03:22:05.796711Z",
     "shell.execute_reply.started": "2023-04-19T03:22:05.787081Z"
    }
   },
   "outputs": [
    {
     "data": {
      "text/plain": [
       "(tensor(0.1586), tensor(0.3021))"
      ]
     },
     "execution_count": 19,
     "metadata": {},
     "output_type": "execute_result"
    }
   ],
   "source": [
    "dist_7_abs = (a_3 - mean7).abs().mean()\n",
    "dist_7_sqr = ((a_3 - mean7)**2).mean().sqrt()\n",
    "dist_7_abs, dist_7_sqr"
   ]
  },
  {
   "cell_type": "markdown",
   "id": "2bd68919-acb1-4b77-8a38-6dd4b6e6c2e1",
   "metadata": {},
   "source": [
    "看到这个图片更接近标准的3"
   ]
  },
  {
   "cell_type": "markdown",
   "id": "19aa0326-6b5a-4123-91fb-d68ad91a15cc",
   "metadata": {},
   "source": [
    "Pytorch提供的两个方法计算 L1(mean absolute value) 和 mse( mean squared error) "
   ]
  },
  {
   "cell_type": "code",
   "execution_count": 20,
   "id": "a7507d9b-116f-4640-b74a-b27f06fd5544",
   "metadata": {
    "execution": {
     "iopub.execute_input": "2023-04-19T03:22:05.800973Z",
     "iopub.status.busy": "2023-04-19T03:22:05.800428Z",
     "iopub.status.idle": "2023-04-19T03:22:05.814747Z",
     "shell.execute_reply": "2023-04-19T03:22:05.813132Z",
     "shell.execute_reply.started": "2023-04-19T03:22:05.800926Z"
    }
   },
   "outputs": [
    {
     "data": {
      "text/plain": [
       "(tensor(0.1586), tensor(0.3021))"
      ]
     },
     "execution_count": 20,
     "metadata": {},
     "output_type": "execute_result"
    }
   ],
   "source": [
    "F.l1_loss(a_3.float(), mean7), F.mse_loss(a_3.float(), mean7).sqrt()"
   ]
  },
  {
   "cell_type": "markdown",
   "id": "f0335a59-d665-4fe7-86ed-c772caf74773",
   "metadata": {},
   "source": [
    "验证集张量"
   ]
  },
  {
   "cell_type": "code",
   "execution_count": 21,
   "id": "d539a54b-3cdc-4f53-9dbd-841e5d23d7dc",
   "metadata": {
    "execution": {
     "iopub.execute_input": "2023-04-19T03:22:05.817359Z",
     "iopub.status.busy": "2023-04-19T03:22:05.816888Z",
     "iopub.status.idle": "2023-04-19T03:22:06.412694Z",
     "shell.execute_reply": "2023-04-19T03:22:06.411300Z",
     "shell.execute_reply.started": "2023-04-19T03:22:05.817314Z"
    }
   },
   "outputs": [
    {
     "data": {
      "text/plain": [
       "(torch.Size([1010, 28, 28]), torch.Size([1028, 28, 28]))"
      ]
     },
     "execution_count": 21,
     "metadata": {},
     "output_type": "execute_result"
    }
   ],
   "source": [
    "valid_3_tens = torch.stack([tensor(Image.open(o)) for o in (path/'valid'/'3').ls()]).float()/255\n",
    "valid_7_tens = torch.stack([tensor(Image.open(o)) for o in (path/'valid'/'7').ls()]).float()/255\n",
    "valid_3_tens.shape, valid_7_tens.shape"
   ]
  },
  {
   "cell_type": "markdown",
   "id": "8b1970d0-6a76-446f-b88f-9d1a0a080ed9",
   "metadata": {},
   "source": [
    "下面的(-1,-2) 表示在倒数1,2维度上进行平均值计算绝对均值误差 和mean(),mean((0,1))效果一样，因为这里是一个二阶张量"
   ]
  },
  {
   "cell_type": "code",
   "execution_count": 22,
   "id": "3ca7b2df-16bf-4ac8-8985-917a245d36bc",
   "metadata": {
    "execution": {
     "iopub.execute_input": "2023-04-19T03:22:06.415046Z",
     "iopub.status.busy": "2023-04-19T03:22:06.414690Z",
     "iopub.status.idle": "2023-04-19T03:22:06.425725Z",
     "shell.execute_reply": "2023-04-19T03:22:06.424730Z",
     "shell.execute_reply.started": "2023-04-19T03:22:06.415003Z"
    }
   },
   "outputs": [
    {
     "data": {
      "text/plain": [
       "tensor(0.1114)"
      ]
     },
     "execution_count": 22,
     "metadata": {},
     "output_type": "execute_result"
    }
   ],
   "source": [
    "def mnist_distance(a, b): return (a-b).abs().mean((-1, -2))\n",
    "mnist_distance(a_3, mean3)"
   ]
  },
  {
   "cell_type": "markdown",
   "id": "454d0289-6ef2-4f42-8780-32592322a9c9",
   "metadata": {},
   "source": [
    "这里就看出来为什么上面是(-1,-2)了 3阶张量减去2阶张量的时候 2阶张量会广播扩展为3阶张量，最后两个维度不变"
   ]
  },
  {
   "cell_type": "code",
   "execution_count": 23,
   "id": "22d58c50-2c23-4827-ab44-cbf981b754e2",
   "metadata": {
    "execution": {
     "iopub.execute_input": "2023-04-19T03:22:06.427348Z",
     "iopub.status.busy": "2023-04-19T03:22:06.427046Z",
     "iopub.status.idle": "2023-04-19T03:22:06.450059Z",
     "shell.execute_reply": "2023-04-19T03:22:06.448609Z",
     "shell.execute_reply.started": "2023-04-19T03:22:06.427320Z"
    }
   },
   "outputs": [
    {
     "data": {
      "text/plain": [
       "(tensor([0.1328, 0.1523, 0.1245,  ..., 0.1383, 0.1280, 0.1138]),\n",
       " torch.Size([1010]))"
      ]
     },
     "execution_count": 23,
     "metadata": {},
     "output_type": "execute_result"
    }
   ],
   "source": [
    "valid_3_dist = mnist_distance(valid_3_tens,mean3)\n",
    "valid_3_dist, valid_3_dist.shape"
   ]
  },
  {
   "cell_type": "code",
   "execution_count": 24,
   "id": "3f535267-5f95-4f81-97b5-904957980c23",
   "metadata": {
    "execution": {
     "iopub.execute_input": "2023-04-19T03:22:06.451772Z",
     "iopub.status.busy": "2023-04-19T03:22:06.451341Z",
     "iopub.status.idle": "2023-04-19T03:22:06.462576Z",
     "shell.execute_reply": "2023-04-19T03:22:06.461341Z",
     "shell.execute_reply.started": "2023-04-19T03:22:06.451742Z"
    }
   },
   "outputs": [
    {
     "data": {
      "text/plain": [
       "torch.Size([1010, 28, 28])"
      ]
     },
     "execution_count": 24,
     "metadata": {},
     "output_type": "execute_result"
    }
   ],
   "source": [
    "(valid_3_tens - mean3).shape"
   ]
  },
  {
   "cell_type": "markdown",
   "id": "84cef177-ef2a-4883-a217-480b72c433b8",
   "metadata": {},
   "source": [
    "简单的方法: 比较和3，7哪个更接近"
   ]
  },
  {
   "cell_type": "code",
   "execution_count": 25,
   "id": "eeb596e7-2a01-4e81-95bd-c2f9831cfa5c",
   "metadata": {
    "execution": {
     "iopub.execute_input": "2023-04-19T03:22:06.463960Z",
     "iopub.status.busy": "2023-04-19T03:22:06.463651Z",
     "iopub.status.idle": "2023-04-19T03:22:06.469615Z",
     "shell.execute_reply": "2023-04-19T03:22:06.468222Z",
     "shell.execute_reply.started": "2023-04-19T03:22:06.463934Z"
    }
   },
   "outputs": [],
   "source": [
    "def is_3(x): return mnist_distance(x, mean3) < mnist_distance(x, mean7)"
   ]
  },
  {
   "cell_type": "code",
   "execution_count": 26,
   "id": "196973a2-b5f8-4d0b-9787-72abc1bb7e3e",
   "metadata": {
    "execution": {
     "iopub.execute_input": "2023-04-19T03:22:06.471168Z",
     "iopub.status.busy": "2023-04-19T03:22:06.470804Z",
     "iopub.status.idle": "2023-04-19T03:22:06.486456Z",
     "shell.execute_reply": "2023-04-19T03:22:06.485177Z",
     "shell.execute_reply.started": "2023-04-19T03:22:06.471132Z"
    }
   },
   "outputs": [
    {
     "data": {
      "text/plain": [
       "(tensor(True), tensor(1.))"
      ]
     },
     "execution_count": 26,
     "metadata": {},
     "output_type": "execute_result"
    }
   ],
   "source": [
    "is_3(a_3), is_3(a_3).float()"
   ]
  },
  {
   "cell_type": "code",
   "execution_count": 27,
   "id": "db64bd74-69e7-45cf-81d0-b781592a2ea6",
   "metadata": {
    "execution": {
     "iopub.execute_input": "2023-04-19T03:22:06.488481Z",
     "iopub.status.busy": "2023-04-19T03:22:06.488131Z",
     "iopub.status.idle": "2023-04-19T03:22:06.517806Z",
     "shell.execute_reply": "2023-04-19T03:22:06.516599Z",
     "shell.execute_reply.started": "2023-04-19T03:22:06.488453Z"
    }
   },
   "outputs": [
    {
     "data": {
      "text/plain": [
       "tensor([ True,  True,  True,  ..., False,  True,  True])"
      ]
     },
     "execution_count": 27,
     "metadata": {},
     "output_type": "execute_result"
    }
   ],
   "source": [
    "is_3(valid_3_tens)"
   ]
  },
  {
   "cell_type": "markdown",
   "id": "99ca0aa2-361a-426b-bfa7-b41bb31e7ed2",
   "metadata": {},
   "source": [
    "计算准确率 取平均值试试"
   ]
  },
  {
   "cell_type": "code",
   "execution_count": 28,
   "id": "38635b26-6a12-412e-b86e-e5cb7d5935a7",
   "metadata": {
    "execution": {
     "iopub.execute_input": "2023-04-19T03:22:06.529584Z",
     "iopub.status.busy": "2023-04-19T03:22:06.529086Z",
     "iopub.status.idle": "2023-04-19T03:22:06.591018Z",
     "shell.execute_reply": "2023-04-19T03:22:06.589882Z",
     "shell.execute_reply.started": "2023-04-19T03:22:06.529548Z"
    }
   },
   "outputs": [
    {
     "data": {
      "text/plain": [
       "(tensor(0.9168), tensor(0.9854), tensor(0.9511))"
      ]
     },
     "execution_count": 28,
     "metadata": {},
     "output_type": "execute_result"
    }
   ],
   "source": [
    "accuracy_3s = is_3(valid_3_tens).float().mean()\n",
    "accuracy_7s = (1- is_3(valid_7_tens).float()).mean()\n",
    "accuracy_3s,accuracy_7s, (accuracy_3s + accuracy_7s)/2"
   ]
  },
  {
   "cell_type": "code",
   "execution_count": 29,
   "id": "132f3bb9-f568-4aed-a6b2-f30e3efae1fe",
   "metadata": {
    "execution": {
     "iopub.execute_input": "2023-04-19T03:22:06.592703Z",
     "iopub.status.busy": "2023-04-19T03:22:06.592401Z",
     "iopub.status.idle": "2023-04-19T03:22:06.687113Z",
     "shell.execute_reply": "2023-04-19T03:22:06.685878Z",
     "shell.execute_reply.started": "2023-04-19T03:22:06.592680Z"
    }
   },
   "outputs": [
    {
     "data": {
      "image/svg+xml": [
       "<?xml version=\"1.0\" encoding=\"UTF-8\" standalone=\"no\"?>\n",
       "<!DOCTYPE svg PUBLIC \"-//W3C//DTD SVG 1.1//EN\"\n",
       " \"http://www.w3.org/Graphics/SVG/1.1/DTD/svg11.dtd\">\n",
       "<!-- Generated by graphviz version 2.43.0 (0)\n",
       " -->\n",
       "<!-- Title: G Pages: 1 -->\n",
       "<svg width=\"661pt\" height=\"78pt\"\n",
       " viewBox=\"0.00 0.00 660.87 78.00\" xmlns=\"http://www.w3.org/2000/svg\" xmlns:xlink=\"http://www.w3.org/1999/xlink\">\n",
       "<g id=\"graph0\" class=\"graph\" transform=\"scale(1 1) rotate(0) translate(4 74)\">\n",
       "<title>G</title>\n",
       "<polygon fill=\"white\" stroke=\"transparent\" points=\"-4,4 -4,-74 656.87,-74 656.87,4 -4,4\"/>\n",
       "<!-- init -->\n",
       "<g id=\"node1\" class=\"node\">\n",
       "<title>init</title>\n",
       "<ellipse fill=\"none\" stroke=\"black\" cx=\"27\" cy=\"-18\" rx=\"27\" ry=\"18\"/>\n",
       "<text text-anchor=\"middle\" x=\"27\" y=\"-14.3\" font-family=\"Times,serif\" font-size=\"14.00\">init</text>\n",
       "</g>\n",
       "<!-- predict -->\n",
       "<g id=\"node2\" class=\"node\">\n",
       "<title>predict</title>\n",
       "<ellipse fill=\"none\" stroke=\"black\" cx=\"135.2\" cy=\"-18\" rx=\"44.39\" ry=\"18\"/>\n",
       "<text text-anchor=\"middle\" x=\"135.2\" y=\"-14.3\" font-family=\"Times,serif\" font-size=\"14.00\">predict</text>\n",
       "</g>\n",
       "<!-- init&#45;&gt;predict -->\n",
       "<g id=\"edge1\" class=\"edge\">\n",
       "<title>init&#45;&gt;predict</title>\n",
       "<path fill=\"none\" stroke=\"black\" d=\"M54.25,-18C62.37,-18 71.63,-18 80.89,-18\"/>\n",
       "<polygon fill=\"black\" stroke=\"black\" points=\"80.89,-21.5 90.89,-18 80.89,-14.5 80.89,-21.5\"/>\n",
       "</g>\n",
       "<!-- loss -->\n",
       "<g id=\"node3\" class=\"node\">\n",
       "<title>loss</title>\n",
       "<ellipse fill=\"none\" stroke=\"black\" cx=\"244.99\" cy=\"-52\" rx=\"28.7\" ry=\"18\"/>\n",
       "<text text-anchor=\"middle\" x=\"244.99\" y=\"-48.3\" font-family=\"Times,serif\" font-size=\"14.00\">loss</text>\n",
       "</g>\n",
       "<!-- predict&#45;&gt;loss -->\n",
       "<g id=\"edge2\" class=\"edge\">\n",
       "<title>predict&#45;&gt;loss</title>\n",
       "<path fill=\"none\" stroke=\"black\" d=\"M170.6,-28.85C183.05,-32.78 197.09,-37.21 209.54,-41.14\"/>\n",
       "<polygon fill=\"black\" stroke=\"black\" points=\"208.53,-44.49 219.12,-44.16 210.64,-37.81 208.53,-44.49\"/>\n",
       "</g>\n",
       "<!-- gradient -->\n",
       "<g id=\"node4\" class=\"node\">\n",
       "<title>gradient</title>\n",
       "<ellipse fill=\"none\" stroke=\"black\" cx=\"406.63\" cy=\"-52\" rx=\"50.09\" ry=\"18\"/>\n",
       "<text text-anchor=\"middle\" x=\"406.63\" y=\"-48.3\" font-family=\"Times,serif\" font-size=\"14.00\">gradient</text>\n",
       "</g>\n",
       "<!-- loss&#45;&gt;gradient -->\n",
       "<g id=\"edge3\" class=\"edge\">\n",
       "<title>loss&#45;&gt;gradient</title>\n",
       "<path fill=\"none\" stroke=\"black\" d=\"M273.8,-52C293.82,-52 321.57,-52 346.45,-52\"/>\n",
       "<polygon fill=\"black\" stroke=\"black\" points=\"346.55,-55.5 356.55,-52 346.55,-48.5 346.55,-55.5\"/>\n",
       "</g>\n",
       "<!-- step -->\n",
       "<g id=\"node5\" class=\"node\">\n",
       "<title>step</title>\n",
       "<ellipse fill=\"none\" stroke=\"black\" cx=\"524.23\" cy=\"-18\" rx=\"30.59\" ry=\"18\"/>\n",
       "<text text-anchor=\"middle\" x=\"524.23\" y=\"-14.3\" font-family=\"Times,serif\" font-size=\"14.00\">step</text>\n",
       "</g>\n",
       "<!-- gradient&#45;&gt;step -->\n",
       "<g id=\"edge4\" class=\"edge\">\n",
       "<title>gradient&#45;&gt;step</title>\n",
       "<path fill=\"none\" stroke=\"black\" d=\"M445.8,-40.77C459.01,-36.89 473.76,-32.55 486.82,-28.71\"/>\n",
       "<polygon fill=\"black\" stroke=\"black\" points=\"487.82,-32.06 496.43,-25.88 485.85,-25.35 487.82,-32.06\"/>\n",
       "</g>\n",
       "<!-- step&#45;&gt;predict -->\n",
       "<g id=\"edge6\" class=\"edge\">\n",
       "<title>step&#45;&gt;predict</title>\n",
       "<path fill=\"none\" stroke=\"black\" d=\"M493.68,-18C428.65,-18 272.39,-18 189.67,-18\"/>\n",
       "<polygon fill=\"black\" stroke=\"black\" points=\"189.47,-14.5 179.47,-18 189.47,-21.5 189.47,-14.5\"/>\n",
       "<text text-anchor=\"middle\" x=\"315.09\" y=\"-21.8\" font-family=\"Times,serif\" font-size=\"14.00\">repeat</text>\n",
       "</g>\n",
       "<!-- stop -->\n",
       "<g id=\"node6\" class=\"node\">\n",
       "<title>stop</title>\n",
       "<ellipse fill=\"none\" stroke=\"black\" cx=\"622.32\" cy=\"-18\" rx=\"30.59\" ry=\"18\"/>\n",
       "<text text-anchor=\"middle\" x=\"622.32\" y=\"-14.3\" font-family=\"Times,serif\" font-size=\"14.00\">stop</text>\n",
       "</g>\n",
       "<!-- step&#45;&gt;stop -->\n",
       "<g id=\"edge5\" class=\"edge\">\n",
       "<title>step&#45;&gt;stop</title>\n",
       "<path fill=\"none\" stroke=\"black\" d=\"M554.84,-18C563.24,-18 572.53,-18 581.44,-18\"/>\n",
       "<polygon fill=\"black\" stroke=\"black\" points=\"581.64,-21.5 591.64,-18 581.64,-14.5 581.64,-21.5\"/>\n",
       "</g>\n",
       "</g>\n",
       "</svg>\n"
      ],
      "text/plain": [
       "<graphviz.sources.Source at 0x7f35e4ce6a00>"
      ]
     },
     "execution_count": 29,
     "metadata": {},
     "output_type": "execute_result"
    }
   ],
   "source": [
    "\n",
    "#id gradient_descent\n",
    "#caption The gradient descent process\n",
    "#alt Graph showing the steps for Gradient Descent\n",
    "gv('''\n",
    "init->predict->loss->gradient->step->stop\n",
    "step->predict[label=repeat]\n",
    "''')\n"
   ]
  },
  {
   "cell_type": "markdown",
   "id": "f1a246ce-ae97-4731-a64e-7358ac1c112f",
   "metadata": {},
   "source": [
    "训练过程\n",
    "\n",
    "1. 初始化随机值的参数\n",
    "2. 通过预测计算损失\n",
    "3. 计算梯度\n",
    "4. 根据梯度和学习率调整参数\n",
    "5. 继续预测-计算loss...\n"
   ]
  },
  {
   "cell_type": "markdown",
   "id": "a36d5db6-f3ae-4f95-9e68-c28125d9b1ed",
   "metadata": {},
   "source": [
    "解释下损失函数 假设是个平方函数，如下"
   ]
  },
  {
   "cell_type": "code",
   "execution_count": 30,
   "id": "7eda0655-335b-421a-b5cc-00138d0c3b4c",
   "metadata": {
    "execution": {
     "iopub.execute_input": "2023-04-19T03:22:06.688949Z",
     "iopub.status.busy": "2023-04-19T03:22:06.688663Z",
     "iopub.status.idle": "2023-04-19T03:22:06.694825Z",
     "shell.execute_reply": "2023-04-19T03:22:06.693793Z",
     "shell.execute_reply.started": "2023-04-19T03:22:06.688920Z"
    }
   },
   "outputs": [],
   "source": [
    "def f(x): return x**2"
   ]
  },
  {
   "cell_type": "code",
   "execution_count": 31,
   "id": "7d046042-96c8-4553-8de4-b4239d147512",
   "metadata": {
    "execution": {
     "iopub.execute_input": "2023-04-19T03:22:06.697649Z",
     "iopub.status.busy": "2023-04-19T03:22:06.696577Z",
     "iopub.status.idle": "2023-04-19T03:22:06.704463Z",
     "shell.execute_reply": "2023-04-19T03:22:06.703272Z",
     "shell.execute_reply.started": "2023-04-19T03:22:06.697618Z"
    }
   },
   "outputs": [
    {
     "name": "stdout",
     "output_type": "stream",
     "text": [
      "plot_function(f, tx=None, ty=None, title=None, min=-2, max=2, figsize=(6, 4))\n",
      "None\n",
      "\n",
      "To get a prettier result with hyperlinks to source code and documentation, install nbdev: pip install nbdev\n"
     ]
    }
   ],
   "source": [
    "doc(plot_function)"
   ]
  },
  {
   "cell_type": "markdown",
   "id": "dd329970-8465-4d90-9c35-9cbf0a282d68",
   "metadata": {},
   "source": [
    "假设随机参数初始值是-1.5 loss值如下  \n",
    "我们可以在斜坡方向稍微改变我们的权重，重新计算我们的损失和调整，并重复几次。最终，我们将到达曲线的最低点："
   ]
  },
  {
   "cell_type": "code",
   "execution_count": 32,
   "id": "13aad6cc-2850-498c-aa90-888b90285b0c",
   "metadata": {
    "execution": {
     "iopub.execute_input": "2023-04-19T03:22:06.706278Z",
     "iopub.status.busy": "2023-04-19T03:22:06.705883Z",
     "iopub.status.idle": "2023-04-19T03:22:06.944739Z",
     "shell.execute_reply": "2023-04-19T03:22:06.943439Z",
     "shell.execute_reply.started": "2023-04-19T03:22:06.706250Z"
    }
   },
   "outputs": [
    {
     "data": {
      "image/png": "[encoded data removed]",
      "text/plain": [
       "<Figure size 432x288 with 1 Axes>"
      ]
     },
     "metadata": {
      "needs_background": "light"
     },
     "output_type": "display_data"
    }
   ],
   "source": [
    "from ipywidgets import interact, interactive, fixed, interact_manual\n",
    "\n",
    "@interact(x=-1.5)\n",
    "def plot_f(x):\n",
    "    plot_function(f, tx='parameters', ty='loss')\n",
    "    plt.scatter(x, f(x), color='red')"
   ]
  },
  {
   "cell_type": "markdown",
   "id": "a4e10230-be61-41e0-973d-246c8b755d4a",
   "metadata": {},
   "source": [
    "这个基本思想一直追溯到艾萨克牛顿，他指出我们可以用这种方式优化任意函数。无论我们的函数变得多么复杂，梯度下降的这种基本方法都不会发生显着变化。我们将在本书后面看到的唯一微小变化是一些方便的方法，我们可以通过找到更好的步骤来使其更快。\n",
    "> 函数的导数是描述函数在某一点上变化率的概念，也可以理解为函数图像在该点的切线斜率。如果一个函数在某一点处可导，那么这个点的导数就是该点处的切线斜率。\n",
    "\n",
    "在 PyTorch 中，我们通常使用自动微分来计算函数的导数，而不是手动计算或使用数值方法。自动微分的基本思想是，通过反向传播算法自动计算函数对输入的导数，从而避免了手动计算和数值方法的复杂性和不精确性。在 PyTorch 中，通过设置 requires_grad=True，可以指定一个张量需要计算导数。然后，通过调用张量的 backward() 方法，即可自动计算导数并保存到对应张量的 grad 属性中。"
   ]
  },
  {
   "cell_type": "markdown",
   "id": "2b133b61-b003-4186-b207-d7faea310fe5",
   "metadata": {},
   "source": [
    "测试一下获取梯度\n",
    "创建一个tensor，并且说明我们需要获取导数"
   ]
  },
  {
   "cell_type": "code",
   "execution_count": 33,
   "id": "e8dc734f-2fbd-4684-934c-e8b81ad6f749",
   "metadata": {
    "execution": {
     "iopub.execute_input": "2023-04-19T03:22:06.946464Z",
     "iopub.status.busy": "2023-04-19T03:22:06.946064Z",
     "iopub.status.idle": "2023-04-19T03:22:06.952558Z",
     "shell.execute_reply": "2023-04-19T03:22:06.950932Z",
     "shell.execute_reply.started": "2023-04-19T03:22:06.946464Z"
    }
   },
   "outputs": [],
   "source": [
    "xt = tensor(3.).requires_grad_()"
   ]
  },
  {
   "cell_type": "code",
   "execution_count": 34,
   "id": "324b5691-d574-4e89-a92a-efc66e77a9c2",
   "metadata": {
    "execution": {
     "iopub.execute_input": "2023-04-19T03:22:06.954936Z",
     "iopub.status.busy": "2023-04-19T03:22:06.954403Z",
     "iopub.status.idle": "2023-04-19T03:22:06.965377Z",
     "shell.execute_reply": "2023-04-19T03:22:06.963699Z",
     "shell.execute_reply.started": "2023-04-19T03:22:06.954936Z"
    }
   },
   "outputs": [
    {
     "data": {
      "text/plain": [
       "tensor(9., grad_fn=<PowBackward0>)"
      ]
     },
     "execution_count": 34,
     "metadata": {},
     "output_type": "execute_result"
    }
   ],
   "source": [
    "yt = f(xt)\n",
    "yt"
   ]
  },
  {
   "cell_type": "markdown",
   "id": "621a87f1-4f94-47af-b10f-517aac520735",
   "metadata": {},
   "source": [
    "然后对yt进行backward 反向误差传播- 就是通过结果计算参数的梯度 所以叫反向"
   ]
  },
  {
   "cell_type": "code",
   "execution_count": 35,
   "id": "0dc75ecd-6ff8-4a09-a582-c5d4ebf84a33",
   "metadata": {
    "execution": {
     "iopub.execute_input": "2023-04-19T03:22:06.967574Z",
     "iopub.status.busy": "2023-04-19T03:22:06.967125Z",
     "iopub.status.idle": "2023-04-19T03:22:06.976586Z",
     "shell.execute_reply": "2023-04-19T03:22:06.975518Z",
     "shell.execute_reply.started": "2023-04-19T03:22:06.967545Z"
    }
   },
   "outputs": [
    {
     "data": {
      "text/plain": [
       "tensor(6.)"
      ]
     },
     "execution_count": 35,
     "metadata": {},
     "output_type": "execute_result"
    }
   ],
   "source": [
    "yt.backward()\n",
    "xt.grad"
   ]
  },
  {
   "cell_type": "markdown",
   "id": "6f9db98d-2d97-4f94-8bb0-04312765fd20",
   "metadata": {},
   "source": [
    "试试多阶张量  因为反向传播的必须是通过一个标量处理   所以这里计算了sum"
   ]
  },
  {
   "cell_type": "code",
   "execution_count": 36,
   "id": "f8709a6f-8494-4797-a61d-7ae5ee4ed8ba",
   "metadata": {
    "execution": {
     "iopub.execute_input": "2023-04-19T03:22:06.978282Z",
     "iopub.status.busy": "2023-04-19T03:22:06.977883Z",
     "iopub.status.idle": "2023-04-19T03:22:06.987722Z",
     "shell.execute_reply": "2023-04-19T03:22:06.986818Z",
     "shell.execute_reply.started": "2023-04-19T03:22:06.978282Z"
    }
   },
   "outputs": [
    {
     "data": {
      "text/plain": [
       "tensor([ 6.,  8., 20.])"
      ]
     },
     "execution_count": 36,
     "metadata": {},
     "output_type": "execute_result"
    }
   ],
   "source": [
    "xt = tensor([3.,4.,10.]).requires_grad_()\n",
    "def f(x): return (x**2).sum()\n",
    "yt = f(xt)\n",
    "yt.backward()\n",
    "xt.grad"
   ]
  },
  {
   "cell_type": "markdown",
   "id": "73534e61-50e6-46c5-b3f4-93845a7fbe58",
   "metadata": {},
   "source": [
    "#### 学习曲线"
   ]
  },
  {
   "cell_type": "markdown",
   "id": "602b954e-af97-45c4-9312-95541291a142",
   "metadata": {},
   "source": [
    "调整梯度的比例，不能太大或者太小，太小调整次数过多，太大容易越界或者震荡\n",
    "\n",
    "![](https://raw.githubusercontent.com/fastai/fastbook/823b69e00aa1e1c1a45fe88bd346f11e8f89c1ff//images/chapter2_small.svg)\n",
    "\n",
    "![](https://raw.githubusercontent.com/fastai/fastbook/823b69e00aa1e1c1a45fe88bd346f11e8f89c1ff//images/chapter2_div.svg)\n",
    "\n",
    "![](https://raw.githubusercontent.com/fastai/fastbook/823b69e00aa1e1c1a45fe88bd346f11e8f89c1ff//images/chapter2_bouncy.svg)"
   ]
  },
  {
   "cell_type": "markdown",
   "id": "ea746a31-95f6-4947-8b0d-f96065c42880",
   "metadata": {},
   "source": [
    "#### 随机梯度下降 SGD"
   ]
  },
  {
   "cell_type": "markdown",
   "id": "387e7111-ae96-4a1e-86e9-f083ce00bde5",
   "metadata": {},
   "source": [
    "这里假设的时候有个人记录了20秒内过山车的速度，因为人操作不是很准，图像不会很标准，画个图"
   ]
  },
  {
   "cell_type": "markdown",
   "id": "5d05505c-57fd-459a-92b1-305d2612c3fe",
   "metadata": {},
   "source": [
    "创建时间张量,vector"
   ]
  },
  {
   "cell_type": "code",
   "execution_count": 37,
   "id": "7b8051ff-7626-45df-8eae-aecca4900c42",
   "metadata": {
    "execution": {
     "iopub.execute_input": "2023-04-19T03:22:06.989156Z",
     "iopub.status.busy": "2023-04-19T03:22:06.988871Z",
     "iopub.status.idle": "2023-04-19T03:22:07.006334Z",
     "shell.execute_reply": "2023-04-19T03:22:06.998240Z",
     "shell.execute_reply.started": "2023-04-19T03:22:06.989131Z"
    }
   },
   "outputs": [
    {
     "data": {
      "text/plain": [
       "(tensor([ 0.,  1.,  2.,  3.,  4.,  5.,  6.,  7.,  8.,  9., 10., 11., 12., 13., 14., 15., 16., 17., 18., 19.]),\n",
       " torch.Size([20]))"
      ]
     },
     "execution_count": 37,
     "metadata": {},
     "output_type": "execute_result"
    }
   ],
   "source": [
    "time = torch.arange(0, 20).float()\n",
    "time, time.shape"
   ]
  },
  {
   "cell_type": "markdown",
   "id": "2a9576d3-cc92-474c-a620-427f94aa13e9",
   "metadata": {},
   "source": [
    "速度加点噪音(随机数) 创建了一个20长度的一阶张量，元素是随机正态分布取的，以9.5为中心画个函数"
   ]
  },
  {
   "cell_type": "code",
   "execution_count": 38,
   "id": "b3e6a13c-d712-435f-ad3c-2a140946148a",
   "metadata": {
    "execution": {
     "iopub.execute_input": "2023-04-19T03:22:07.009688Z",
     "iopub.status.busy": "2023-04-19T03:22:07.009340Z",
     "iopub.status.idle": "2023-04-19T03:22:07.167644Z",
     "shell.execute_reply": "2023-04-19T03:22:07.166793Z",
     "shell.execute_reply.started": "2023-04-19T03:22:07.009660Z"
    }
   },
   "outputs": [
    {
     "data": {
      "text/plain": [
       "<matplotlib.collections.PathCollection at 0x7f35ff608250>"
      ]
     },
     "execution_count": 38,
     "metadata": {},
     "output_type": "execute_result"
    },
    {
     "data": {
      "image/png": "[encoded data removed]",
      "text/plain": [
       "<Figure size 432x288 with 1 Axes>"
      ]
     },
     "metadata": {
      "needs_background": "light"
     },
     "output_type": "display_data"
    }
   ],
   "source": [
    "speed = torch.randn(20)*3 + 0.75*(time-9.5)**2 +1\n",
    "plt.scatter(time,speed)"
   ]
  },
  {
   "cell_type": "markdown",
   "id": "7fc7ffdf-09ab-4e74-9eb9-224675e79f3c",
   "metadata": {},
   "source": [
    "先假设最佳解决方案是一个二次函数-根据时间和一些参数求速度，这里其实机器学习做的是求参，计算参数，定义个二次函数"
   ]
  },
  {
   "cell_type": "code",
   "execution_count": 39,
   "id": "e096a7ae-1808-47f6-8480-e3964c9b165e",
   "metadata": {
    "execution": {
     "iopub.execute_input": "2023-04-19T03:22:07.169461Z",
     "iopub.status.busy": "2023-04-19T03:22:07.169212Z",
     "iopub.status.idle": "2023-04-19T03:22:07.174356Z",
     "shell.execute_reply": "2023-04-19T03:22:07.173333Z",
     "shell.execute_reply.started": "2023-04-19T03:22:07.169437Z"
    }
   },
   "outputs": [],
   "source": [
    "def f(time,params):\n",
    "    a,b,c = params\n",
    "    return a*(time**2) + b*time + c"
   ]
  },
  {
   "cell_type": "markdown",
   "id": "9ea07587-027e-42f4-bac1-8182ddef4a9d",
   "metadata": {},
   "source": [
    "定义一个计算我们预测的好坏的的loss 函数，连续值一般使用均方误差(mse)，loss越低表示我们预测的越好"
   ]
  },
  {
   "cell_type": "code",
   "execution_count": 40,
   "id": "304ab716-9ed3-4b1a-a537-9184d882c593",
   "metadata": {
    "execution": {
     "iopub.execute_input": "2023-04-19T03:22:07.175903Z",
     "iopub.status.busy": "2023-04-19T03:22:07.175616Z",
     "iopub.status.idle": "2023-04-19T03:22:07.181306Z",
     "shell.execute_reply": "2023-04-19T03:22:07.180302Z",
     "shell.execute_reply.started": "2023-04-19T03:22:07.175875Z"
    }
   },
   "outputs": [],
   "source": [
    "def mse(preds, targets): return ((preds - targets)**2).mean()"
   ]
  },
  {
   "cell_type": "markdown",
   "id": "5cdbe2d2-d63b-4f07-bf78-036d410a802a",
   "metadata": {},
   "source": [
    "下面就按之前说好的7步来"
   ]
  },
  {
   "cell_type": "markdown",
   "id": "9b2933d7-5f86-4ce9-828b-8b5e463a921a",
   "metadata": {},
   "source": [
    "##### 1. 初始化参数"
   ]
  },
  {
   "cell_type": "markdown",
   "id": "9a5ddd12-be8f-4aca-89a0-7d064dcb4b15",
   "metadata": {},
   "source": [
    "随机初始化三个参数,并告诉pytorch我们需要梯度,保存下初始化得到的参数，以后使用"
   ]
  },
  {
   "cell_type": "code",
   "execution_count": 41,
   "id": "c6a8691f-3642-4944-9731-5ceaf7bcc8f9",
   "metadata": {
    "execution": {
     "iopub.execute_input": "2023-04-19T03:22:07.183029Z",
     "iopub.status.busy": "2023-04-19T03:22:07.182571Z",
     "iopub.status.idle": "2023-04-19T03:22:07.187499Z",
     "shell.execute_reply": "2023-04-19T03:22:07.186619Z",
     "shell.execute_reply.started": "2023-04-19T03:22:07.182996Z"
    }
   },
   "outputs": [],
   "source": [
    "params = torch.randn(3).requires_grad_()"
   ]
  },
  {
   "cell_type": "code",
   "execution_count": 42,
   "id": "81e2c9a9-cf87-47c6-a9e2-dcf4903190cd",
   "metadata": {
    "execution": {
     "iopub.execute_input": "2023-04-19T03:22:07.189317Z",
     "iopub.status.busy": "2023-04-19T03:22:07.189077Z",
     "iopub.status.idle": "2023-04-19T03:22:07.194120Z",
     "shell.execute_reply": "2023-04-19T03:22:07.192725Z",
     "shell.execute_reply.started": "2023-04-19T03:22:07.189305Z"
    }
   },
   "outputs": [],
   "source": [
    "orig_params = params.clone()"
   ]
  },
  {
   "cell_type": "markdown",
   "id": "0cc0ea85-d7aa-4a35-b32d-7d6145cf66da",
   "metadata": {},
   "source": [
    "##### 2. 预测"
   ]
  },
  {
   "cell_type": "code",
   "execution_count": 43,
   "id": "738cf11e-d625-4380-a5d6-8750613326cf",
   "metadata": {
    "execution": {
     "iopub.execute_input": "2023-04-19T03:22:07.196155Z",
     "iopub.status.busy": "2023-04-19T03:22:07.196051Z",
     "iopub.status.idle": "2023-04-19T03:22:07.201789Z",
     "shell.execute_reply": "2023-04-19T03:22:07.200169Z",
     "shell.execute_reply.started": "2023-04-19T03:22:07.196131Z"
    }
   },
   "outputs": [],
   "source": [
    "preds = f(time,params)"
   ]
  },
  {
   "cell_type": "markdown",
   "id": "319821e7-2208-4885-b791-6479625d06d1",
   "metadata": {},
   "source": [
    "为了直观看到，画一下，红线是当前参数的曲线"
   ]
  },
  {
   "cell_type": "code",
   "execution_count": 44,
   "id": "59ee7821-fa39-45aa-96f2-5a2f1afe5b34",
   "metadata": {
    "execution": {
     "iopub.execute_input": "2023-04-19T03:22:07.203357Z",
     "iopub.status.busy": "2023-04-19T03:22:07.203110Z",
     "iopub.status.idle": "2023-04-19T03:22:07.208925Z",
     "shell.execute_reply": "2023-04-19T03:22:07.207788Z",
     "shell.execute_reply.started": "2023-04-19T03:22:07.203347Z"
    }
   },
   "outputs": [
    {
     "name": "stdout",
     "output_type": "stream",
     "text": [
      "to_np(x)\n",
      "Convert a tensor to a numpy array.\n",
      "\n",
      "To get a prettier result with hyperlinks to source code and documentation, install nbdev: pip install nbdev\n"
     ]
    }
   ],
   "source": [
    "doc(to_np)"
   ]
  },
  {
   "cell_type": "code",
   "execution_count": 45,
   "id": "ee4abf59-c859-4fc3-9fc6-0c9d2a11275b",
   "metadata": {
    "execution": {
     "iopub.execute_input": "2023-04-19T03:22:07.211109Z",
     "iopub.status.busy": "2023-04-19T03:22:07.210746Z",
     "iopub.status.idle": "2023-04-19T03:22:07.217355Z",
     "shell.execute_reply": "2023-04-19T03:22:07.216314Z",
     "shell.execute_reply.started": "2023-04-19T03:22:07.211073Z"
    }
   },
   "outputs": [],
   "source": [
    "def show_preds(preds, ax=None):\n",
    "    if ax is None: ax = plt.subplots()[1]\n",
    "    ax.scatter(time, speed)\n",
    "    ax.scatter(time, to_np(preds), color='red')\n",
    "    ax.set_ylim(-300, 100)"
   ]
  },
  {
   "cell_type": "code",
   "execution_count": 46,
   "id": "d26f385f-ee10-48ed-a619-6144bc1267bf",
   "metadata": {
    "execution": {
     "iopub.execute_input": "2023-04-19T03:22:07.218849Z",
     "iopub.status.busy": "2023-04-19T03:22:07.218603Z",
     "iopub.status.idle": "2023-04-19T03:22:07.389824Z",
     "shell.execute_reply": "2023-04-19T03:22:07.388701Z",
     "shell.execute_reply.started": "2023-04-19T03:22:07.218824Z"
    }
   },
   "outputs": [
    {
     "data": {
      "image/png": "[encoded data removed]",
      "text/plain": [
       "<Figure size 432x288 with 1 Axes>"
      ]
     },
     "metadata": {
      "needs_background": "light"
     },
     "output_type": "display_data"
    }
   ],
   "source": [
    "show_preds(preds)"
   ]
  },
  {
   "cell_type": "markdown",
   "id": "4da16f12-e6a8-49d1-8fed-8dce86c903f8",
   "metadata": {},
   "source": [
    "##### 3. 计算loss"
   ]
  },
  {
   "cell_type": "code",
   "execution_count": 47,
   "id": "03b8047b-e54f-43f9-b10f-df055276ff3e",
   "metadata": {
    "execution": {
     "iopub.execute_input": "2023-04-19T03:22:07.391594Z",
     "iopub.status.busy": "2023-04-19T03:22:07.391253Z",
     "iopub.status.idle": "2023-04-19T03:22:07.400757Z",
     "shell.execute_reply": "2023-04-19T03:22:07.399445Z",
     "shell.execute_reply.started": "2023-04-19T03:22:07.391570Z"
    }
   },
   "outputs": [
    {
     "data": {
      "text/plain": [
       "tensor(25823.8086, grad_fn=<MeanBackward0>)"
      ]
     },
     "execution_count": 47,
     "metadata": {},
     "output_type": "execute_result"
    }
   ],
   "source": [
    "loss = mse(preds, speed)\n",
    "loss"
   ]
  },
  {
   "cell_type": "markdown",
   "id": "5e1629e4-46c2-4b3f-a24d-986ef9edf337",
   "metadata": {},
   "source": [
    "##### 4. 获取梯度"
   ]
  },
  {
   "cell_type": "code",
   "execution_count": 48,
   "id": "f69084ab-6e5a-4209-9b20-7fb8f7389b83",
   "metadata": {
    "execution": {
     "iopub.execute_input": "2023-04-19T03:22:07.402392Z",
     "iopub.status.busy": "2023-04-19T03:22:07.402119Z",
     "iopub.status.idle": "2023-04-19T03:22:07.411165Z",
     "shell.execute_reply": "2023-04-19T03:22:07.410140Z",
     "shell.execute_reply.started": "2023-04-19T03:22:07.402367Z"
    }
   },
   "outputs": [
    {
     "data": {
      "text/plain": [
       "tensor([-53195.8633,  -3419.7148,   -253.8908])"
      ]
     },
     "execution_count": 48,
     "metadata": {},
     "output_type": "execute_result"
    }
   ],
   "source": [
    "loss.backward()\n",
    "params.grad"
   ]
  },
  {
   "cell_type": "markdown",
   "id": "38087959-86a5-49f9-b312-099643c92a5b",
   "metadata": {},
   "source": [
    "梯度调整"
   ]
  },
  {
   "cell_type": "code",
   "execution_count": 49,
   "id": "c3b10681-83d0-4310-a9b9-7db6f6b5b2cb",
   "metadata": {
    "execution": {
     "iopub.execute_input": "2023-04-19T03:22:07.412610Z",
     "iopub.status.busy": "2023-04-19T03:22:07.412328Z",
     "iopub.status.idle": "2023-04-19T03:22:07.421819Z",
     "shell.execute_reply": "2023-04-19T03:22:07.420572Z",
     "shell.execute_reply.started": "2023-04-19T03:22:07.412584Z"
    }
   },
   "outputs": [
    {
     "data": {
      "text/plain": [
       "tensor([-0.5320, -0.0342, -0.0025])"
      ]
     },
     "execution_count": 49,
     "metadata": {},
     "output_type": "execute_result"
    }
   ],
   "source": [
    "params.grad * 1e-5"
   ]
  },
  {
   "cell_type": "markdown",
   "id": "e78e62ac-594c-4b5c-8ad6-0b69a0e66867",
   "metadata": {},
   "source": [
    "看下原始参数"
   ]
  },
  {
   "cell_type": "code",
   "execution_count": 50,
   "id": "c9a1db39-838b-4922-a7f3-706214640718",
   "metadata": {
    "execution": {
     "iopub.execute_input": "2023-04-19T03:22:07.423434Z",
     "iopub.status.busy": "2023-04-19T03:22:07.423110Z",
     "iopub.status.idle": "2023-04-19T03:22:07.430644Z",
     "shell.execute_reply": "2023-04-19T03:22:07.429664Z",
     "shell.execute_reply.started": "2023-04-19T03:22:07.423404Z"
    }
   },
   "outputs": [
    {
     "data": {
      "text/plain": [
       "tensor([-0.7658, -0.7506,  1.3525], requires_grad=True)"
      ]
     },
     "execution_count": 50,
     "metadata": {},
     "output_type": "execute_result"
    }
   ],
   "source": [
    "params"
   ]
  },
  {
   "cell_type": "markdown",
   "id": "2f9d9341-2738-4010-b733-751024fd1a45",
   "metadata": {},
   "source": [
    "##### 5. 调整权重"
   ]
  },
  {
   "cell_type": "markdown",
   "id": "77a0b2b9-1d71-4082-9e0e-168a06a288f5",
   "metadata": {},
   "source": [
    "通过一个学习率 learn rate 来对参数进行微调 一般是 w -= grad*lr  这里用1e-5 = 0.00001  \n",
    "因为要重新计算会重置下梯度"
   ]
  },
  {
   "cell_type": "code",
   "execution_count": 51,
   "id": "be3ed3c4-b73d-4f6f-ae91-73c2adb290cc",
   "metadata": {
    "execution": {
     "iopub.execute_input": "2023-04-19T03:22:07.433058Z",
     "iopub.status.busy": "2023-04-19T03:22:07.432619Z",
     "iopub.status.idle": "2023-04-19T03:22:07.439685Z",
     "shell.execute_reply": "2023-04-19T03:22:07.438387Z",
     "shell.execute_reply.started": "2023-04-19T03:22:07.433016Z"
    }
   },
   "outputs": [],
   "source": [
    "lr = 1e-5\n",
    "params.data -= lr * params.grad.data\n",
    "params.grad = None"
   ]
  },
  {
   "cell_type": "code",
   "execution_count": 52,
   "id": "934d5c3f-a57e-47eb-9e9f-4a31dc9b8daa",
   "metadata": {
    "execution": {
     "iopub.execute_input": "2023-04-19T03:22:07.441719Z",
     "iopub.status.busy": "2023-04-19T03:22:07.441251Z",
     "iopub.status.idle": "2023-04-19T03:22:07.452804Z",
     "shell.execute_reply": "2023-04-19T03:22:07.451326Z",
     "shell.execute_reply.started": "2023-04-19T03:22:07.441677Z"
    }
   },
   "outputs": [
    {
     "data": {
      "text/plain": [
       "tensor(5435.5356, grad_fn=<MeanBackward0>)"
      ]
     },
     "execution_count": 52,
     "metadata": {},
     "output_type": "execute_result"
    }
   ],
   "source": [
    "preds = f(time,params)\n",
    "mse(preds, speed)"
   ]
  },
  {
   "cell_type": "code",
   "execution_count": 53,
   "id": "62956dca-c211-45ad-b2dc-50fa9870c71c",
   "metadata": {
    "execution": {
     "iopub.execute_input": "2023-04-19T03:22:07.454106Z",
     "iopub.status.busy": "2023-04-19T03:22:07.453715Z",
     "iopub.status.idle": "2023-04-19T03:22:07.624766Z",
     "shell.execute_reply": "2023-04-19T03:22:07.622523Z",
     "shell.execute_reply.started": "2023-04-19T03:22:07.454106Z"
    }
   },
   "outputs": [
    {
     "data": {
      "image/png": "[encoded data removed]",
      "text/plain": [
       "<Figure size 432x288 with 1 Axes>"
      ]
     },
     "metadata": {
      "needs_background": "light"
     },
     "output_type": "display_data"
    }
   ],
   "source": [
    "show_preds(preds)"
   ]
  },
  {
   "cell_type": "markdown",
   "id": "2e6a1afc-5087-49c4-a8c0-ce322b2d665d",
   "metadata": {},
   "source": [
    "下面要重复跑多次，把这几步抽成一个方法"
   ]
  },
  {
   "cell_type": "code",
   "execution_count": 54,
   "id": "b8471cdb-3dcd-4298-bb4a-b4a0d4aecf0c",
   "metadata": {
    "execution": {
     "iopub.execute_input": "2023-04-19T03:22:07.628167Z",
     "iopub.status.busy": "2023-04-19T03:22:07.626583Z",
     "iopub.status.idle": "2023-04-19T03:22:07.634193Z",
     "shell.execute_reply": "2023-04-19T03:22:07.633068Z",
     "shell.execute_reply.started": "2023-04-19T03:22:07.628117Z"
    }
   },
   "outputs": [],
   "source": [
    "def apply_step(params, prn=True):\n",
    "    preds = f(time, params)\n",
    "    loss = mse(preds, speed)\n",
    "    loss.backward()\n",
    "    params.data -= lr * params.grad.data\n",
    "    params.grad = None\n",
    "    if prn: print(loss.item())\n",
    "    return preds"
   ]
  },
  {
   "cell_type": "markdown",
   "id": "991418a2-8a21-48b1-8603-b2fe49138c90",
   "metadata": {},
   "source": [
    "##### 6. 重复上面过程"
   ]
  },
  {
   "cell_type": "code",
   "execution_count": 55,
   "id": "23a559e4-444f-4274-b5a0-8ea33172b3b6",
   "metadata": {
    "execution": {
     "iopub.execute_input": "2023-04-19T03:22:07.636682Z",
     "iopub.status.busy": "2023-04-19T03:22:07.635995Z",
     "iopub.status.idle": "2023-04-19T03:22:07.649501Z",
     "shell.execute_reply": "2023-04-19T03:22:07.648409Z",
     "shell.execute_reply.started": "2023-04-19T03:22:07.636642Z"
    }
   },
   "outputs": [
    {
     "name": "stdout",
     "output_type": "stream",
     "text": [
      "5435.53564453125\n",
      "1577.44921875\n",
      "847.3778076171875\n",
      "709.2225341796875\n",
      "683.0758056640625\n",
      "678.1243896484375\n",
      "677.1838989257812\n",
      "677.0023803710938\n",
      "676.9645385742188\n",
      "676.9537353515625\n"
     ]
    }
   ],
   "source": [
    "for i in range(10): apply_step(params)"
   ]
  },
  {
   "cell_type": "markdown",
   "id": "73921b9c-ce5f-4b05-84fc-4a747f0ee4d7",
   "metadata": {},
   "source": [
    "用图来展示下效果"
   ]
  },
  {
   "cell_type": "code",
   "execution_count": 56,
   "id": "0e512899-cc63-4b10-8f68-c8d55a872915",
   "metadata": {
    "execution": {
     "iopub.execute_input": "2023-04-19T03:22:07.651299Z",
     "iopub.status.busy": "2023-04-19T03:22:07.650959Z",
     "iopub.status.idle": "2023-04-19T03:22:08.217692Z",
     "shell.execute_reply": "2023-04-19T03:22:08.216457Z",
     "shell.execute_reply.started": "2023-04-19T03:22:07.651272Z"
    }
   },
   "outputs": [
    {
     "data": {
      "image/png": "[encoded data removed]",
      "text/plain": [
       "<Figure size 864x216 with 4 Axes>"
      ]
     },
     "metadata": {
      "needs_background": "light"
     },
     "output_type": "display_data"
    }
   ],
   "source": [
    "params = orig_params.detach().requires_grad_()\n",
    "_, axs = plt.subplots(1, 4, figsize=(12, 3))\n",
    "for ax in axs: show_preds(apply_step(params, False), ax)\n",
    "plt.tight_layout()"
   ]
  },
  {
   "cell_type": "markdown",
   "id": "b702baa5-5b4b-4e42-bda2-3e4cfd518dfb",
   "metadata": {},
   "source": [
    "##### 7. stop"
   ]
  },
  {
   "cell_type": "markdown",
   "id": "4f1fc1a4-ea48-4212-9859-3d39d9bd184e",
   "metadata": {},
   "source": [
    "#### MNIST的loss函数"
   ]
  },
  {
   "cell_type": "code",
   "execution_count": 57,
   "id": "cb5c1cf6-0e3a-44aa-9736-069c8c791c3f",
   "metadata": {
    "execution": {
     "iopub.execute_input": "2023-04-19T03:22:08.219939Z",
     "iopub.status.busy": "2023-04-19T03:22:08.219526Z",
     "iopub.status.idle": "2023-04-19T03:22:08.243529Z",
     "shell.execute_reply": "2023-04-19T03:22:08.242271Z",
     "shell.execute_reply.started": "2023-04-19T03:22:08.219910Z"
    }
   },
   "outputs": [
    {
     "data": {
      "text/plain": [
       "(torch.Size([12396, 784]), 12396)"
      ]
     },
     "execution_count": 57,
     "metadata": {},
     "output_type": "execute_result"
    }
   ],
   "source": [
    "train_x = torch.cat([stacked_threes, stacked_sevens]).view(-1, 28*28)\n",
    "train_x.shape,len(train_x)"
   ]
  },
  {
   "cell_type": "markdown",
   "id": "08c9b498-b565-4662-ad37-9dc768621df9",
   "metadata": {},
   "source": [
    "其实上面就是一个2阶张量 所有图片一维，每个图片里面的像素二维"
   ]
  },
  {
   "cell_type": "code",
   "execution_count": 58,
   "id": "71181aad-2256-4914-b15e-3819ec7a2fe9",
   "metadata": {
    "execution": {
     "iopub.execute_input": "2023-04-19T03:22:08.245536Z",
     "iopub.status.busy": "2023-04-19T03:22:08.244804Z",
     "iopub.status.idle": "2023-04-19T03:22:08.255507Z",
     "shell.execute_reply": "2023-04-19T03:22:08.254253Z",
     "shell.execute_reply.started": "2023-04-19T03:22:08.245494Z"
    }
   },
   "outputs": [
    {
     "data": {
      "text/plain": [
       "torch.Size([12396, 1])"
      ]
     },
     "execution_count": 58,
     "metadata": {},
     "output_type": "execute_result"
    }
   ],
   "source": [
    "train_y = tensor([1] * len(threes) + [0] * len(sevens)).unsqueeze(1)\n",
    "train_y.shape"
   ]
  },
  {
   "cell_type": "markdown",
   "id": "de65bdcb-352b-4492-bb85-ff68e36a39d3",
   "metadata": {},
   "source": [
    "unsqueeze 在原张量上加了一个维度 `[1,2,3,4] -> [[1],[2],[3],[4]]`  \n",
    "这是给训练集打标签 3的标签是1，7的标签是0"
   ]
  },
  {
   "cell_type": "code",
   "execution_count": 59,
   "id": "4d0930c5-736f-49b5-b254-d2f7488d14cf",
   "metadata": {
    "execution": {
     "iopub.execute_input": "2023-04-19T03:22:08.257362Z",
     "iopub.status.busy": "2023-04-19T03:22:08.256987Z",
     "iopub.status.idle": "2023-04-19T03:22:08.266861Z",
     "shell.execute_reply": "2023-04-19T03:22:08.265638Z",
     "shell.execute_reply.started": "2023-04-19T03:22:08.257324Z"
    }
   },
   "outputs": [
    {
     "data": {
      "text/plain": [
       "tensor([1, 1, 1, 1, 1])"
      ]
     },
     "execution_count": 59,
     "metadata": {},
     "output_type": "execute_result"
    }
   ],
   "source": [
    "tensor([1] * len(threes) + [0] * len(sevens))[0:5]"
   ]
  },
  {
   "cell_type": "markdown",
   "id": "be5e9134-fcdc-4b1d-b559-9460d3a056e3",
   "metadata": {},
   "source": [
    "通过输入和标签创建一个Pytorch的Dataset"
   ]
  },
  {
   "cell_type": "code",
   "execution_count": 60,
   "id": "fb45f5fa-567e-4139-9d87-d4889bd351ff",
   "metadata": {
    "execution": {
     "iopub.execute_input": "2023-04-19T03:22:08.268872Z",
     "iopub.status.busy": "2023-04-19T03:22:08.268470Z",
     "iopub.status.idle": "2023-04-19T03:22:08.513258Z",
     "shell.execute_reply": "2023-04-19T03:22:08.512076Z",
     "shell.execute_reply.started": "2023-04-19T03:22:08.268843Z"
    }
   },
   "outputs": [
    {
     "data": {
      "text/plain": [
       "(torch.Size([784]), tensor([1]))"
      ]
     },
     "execution_count": 60,
     "metadata": {},
     "output_type": "execute_result"
    }
   ],
   "source": [
    "dset = list(zip(train_x, train_y))\n",
    "x,y = dset[0]\n",
    "x.shape,y"
   ]
  },
  {
   "cell_type": "markdown",
   "id": "66391e2d-3fcc-4c38-ac2d-9bbce041eea2",
   "metadata": {},
   "source": [
    "验证集"
   ]
  },
  {
   "cell_type": "code",
   "execution_count": 61,
   "id": "301b0af6-06d5-427c-94e3-86cc98ead42a",
   "metadata": {
    "execution": {
     "iopub.execute_input": "2023-04-19T03:22:08.514796Z",
     "iopub.status.busy": "2023-04-19T03:22:08.514514Z",
     "iopub.status.idle": "2023-04-19T03:22:08.533481Z",
     "shell.execute_reply": "2023-04-19T03:22:08.532137Z",
     "shell.execute_reply.started": "2023-04-19T03:22:08.514770Z"
    }
   },
   "outputs": [],
   "source": [
    "valid_x = torch.cat([valid_3_tens, valid_7_tens]).view(-1, 28*28)\n",
    "valid_y = tensor([1] * len(valid_3_tens) + [0] * len(valid_7_tens)).unsqueeze(1)\n",
    "valid_dset = list(zip(valid_x,valid_y))"
   ]
  },
  {
   "cell_type": "markdown",
   "id": "6973fb14-bb2b-4d73-8c8f-d9885e6f19c8",
   "metadata": {},
   "source": [
    "为每个像素创建一个随机权重"
   ]
  },
  {
   "cell_type": "code",
   "execution_count": 62,
   "id": "5921a1ef-8418-470f-86a6-8d8a7a77db6d",
   "metadata": {
    "execution": {
     "iopub.execute_input": "2023-04-19T03:22:08.536462Z",
     "iopub.status.busy": "2023-04-19T03:22:08.535292Z",
     "iopub.status.idle": "2023-04-19T03:22:08.542436Z",
     "shell.execute_reply": "2023-04-19T03:22:08.541042Z",
     "shell.execute_reply.started": "2023-04-19T03:22:08.536399Z"
    }
   },
   "outputs": [],
   "source": [
    "def init_params(size, std=1.0): return (torch.randn(size)*std).requires_grad_()"
   ]
  },
  {
   "cell_type": "code",
   "execution_count": 63,
   "id": "b5f31ba9-afa5-4dee-9950-4ca955f3a944",
   "metadata": {
    "execution": {
     "iopub.execute_input": "2023-04-19T03:22:08.543988Z",
     "iopub.status.busy": "2023-04-19T03:22:08.543456Z",
     "iopub.status.idle": "2023-04-19T03:22:08.550267Z",
     "shell.execute_reply": "2023-04-19T03:22:08.548866Z",
     "shell.execute_reply.started": "2023-04-19T03:22:08.543988Z"
    }
   },
   "outputs": [],
   "source": [
    "weights = init_params((28*28,1))"
   ]
  },
  {
   "cell_type": "markdown",
   "id": "6c6c19c9-1f8a-4ac3-ba34-04fb8fe36ba0",
   "metadata": {},
   "source": [
    "如果像素是0的话 权重不管是多少都是0 所有这里要加个偏置\n",
    "y=w*x+b"
   ]
  },
  {
   "cell_type": "code",
   "execution_count": 64,
   "id": "220805d3-d6cc-4190-acbc-b69fa580d086",
   "metadata": {
    "execution": {
     "iopub.execute_input": "2023-04-19T03:22:08.552272Z",
     "iopub.status.busy": "2023-04-19T03:22:08.551832Z",
     "iopub.status.idle": "2023-04-19T03:22:08.560158Z",
     "shell.execute_reply": "2023-04-19T03:22:08.557876Z",
     "shell.execute_reply.started": "2023-04-19T03:22:08.552236Z"
    }
   },
   "outputs": [],
   "source": [
    "bias = init_params(1)"
   ]
  },
  {
   "cell_type": "markdown",
   "id": "6e5cad00-1ca2-43d4-9d34-ef71f4e34188",
   "metadata": {},
   "source": [
    "预测一个图片的代码就是"
   ]
  },
  {
   "cell_type": "code",
   "execution_count": 65,
   "id": "cb9b85f1-0b8f-4776-b122-4a231c29b7da",
   "metadata": {
    "execution": {
     "iopub.execute_input": "2023-04-19T03:22:08.561984Z",
     "iopub.status.busy": "2023-04-19T03:22:08.561599Z",
     "iopub.status.idle": "2023-04-19T03:22:08.574406Z",
     "shell.execute_reply": "2023-04-19T03:22:08.572166Z",
     "shell.execute_reply.started": "2023-04-19T03:22:08.561871Z"
    }
   },
   "outputs": [
    {
     "data": {
      "text/plain": [
       "tensor([20.2336], grad_fn=<AddBackward0>)"
      ]
     },
     "execution_count": 65,
     "metadata": {},
     "output_type": "execute_result"
    }
   ],
   "source": [
    "(train_x[0]*weights.T).sum()  + bias"
   ]
  },
  {
   "cell_type": "code",
   "execution_count": 66,
   "id": "7e955ec6-dbc1-4992-9907-3ffe4769f975",
   "metadata": {
    "execution": {
     "iopub.execute_input": "2023-04-19T03:22:08.577526Z",
     "iopub.status.busy": "2023-04-19T03:22:08.577190Z",
     "iopub.status.idle": "2023-04-19T03:22:08.599791Z",
     "shell.execute_reply": "2023-04-19T03:22:08.598297Z",
     "shell.execute_reply.started": "2023-04-19T03:22:08.577477Z"
    }
   },
   "outputs": [
    {
     "data": {
      "text/plain": [
       "tensor([20.2336], grad_fn=<AddBackward0>)"
      ]
     },
     "execution_count": 66,
     "metadata": {},
     "output_type": "execute_result"
    }
   ],
   "source": [
    "(train_x[0].unsqueeze(0)*weights.T).sum()  + bias"
   ]
  },
  {
   "cell_type": "markdown",
   "id": "9d7d4e77-15fe-45f8-a74d-2e95bc5cdd1e",
   "metadata": {},
   "source": [
    "weights.T是对矩阵进行转置，为什么要进行转置? * 是逐元素相乘，会对一维张量进行广播为2维张量再相乘，是为了shape一致？"
   ]
  },
  {
   "cell_type": "code",
   "execution_count": 67,
   "id": "fc0e6f82-a994-450c-9e17-527fd66ec153",
   "metadata": {
    "execution": {
     "iopub.execute_input": "2023-04-19T03:22:08.602411Z",
     "iopub.status.busy": "2023-04-19T03:22:08.602033Z",
     "iopub.status.idle": "2023-04-19T03:22:08.613701Z",
     "shell.execute_reply": "2023-04-19T03:22:08.612226Z",
     "shell.execute_reply.started": "2023-04-19T03:22:08.602384Z"
    }
   },
   "outputs": [
    {
     "data": {
      "text/plain": [
       "(torch.Size([784, 1]),\n",
       " torch.Size([784]),\n",
       " tensor([[ 1.3123],\n",
       "         [ 0.6872],\n",
       "         [-1.0892],\n",
       "         [-0.3553],\n",
       "         [-0.9138]], grad_fn=<SliceBackward0>),\n",
       " torch.Size([1, 784]))"
      ]
     },
     "execution_count": 67,
     "metadata": {},
     "output_type": "execute_result"
    }
   ],
   "source": [
    "weights.shape,train_x[0].shape,weights[0:5],weights.T.shape"
   ]
  },
  {
   "cell_type": "markdown",
   "id": "ef8defef-96fb-405e-a46a-f43796b6e13b",
   "metadata": {},
   "source": [
    "python内置矩阵乘法操作符 `@`  "
   ]
  },
  {
   "cell_type": "code",
   "execution_count": 68,
   "id": "98a81582-6a0e-481c-9c79-52116316070a",
   "metadata": {
    "execution": {
     "iopub.execute_input": "2023-04-19T03:22:08.616294Z",
     "iopub.status.busy": "2023-04-19T03:22:08.615909Z",
     "iopub.status.idle": "2023-04-19T03:22:08.622778Z",
     "shell.execute_reply": "2023-04-19T03:22:08.621529Z",
     "shell.execute_reply.started": "2023-04-19T03:22:08.616249Z"
    }
   },
   "outputs": [],
   "source": [
    "def linear1(xb): return xb@weights + bias"
   ]
  },
  {
   "cell_type": "code",
   "execution_count": 69,
   "id": "faf46e16-06cd-4b87-a0b7-a009393d730b",
   "metadata": {
    "execution": {
     "iopub.execute_input": "2023-04-19T03:22:08.624975Z",
     "iopub.status.busy": "2023-04-19T03:22:08.624160Z",
     "iopub.status.idle": "2023-04-19T03:22:08.653794Z",
     "shell.execute_reply": "2023-04-19T03:22:08.652496Z",
     "shell.execute_reply.started": "2023-04-19T03:22:08.624933Z"
    }
   },
   "outputs": [
    {
     "data": {
      "text/plain": [
       "tensor([[20.2336],\n",
       "        [17.0644],\n",
       "        [15.2384],\n",
       "        ...,\n",
       "        [18.3804],\n",
       "        [23.8567],\n",
       "        [28.6816]], grad_fn=<AddBackward0>)"
      ]
     },
     "execution_count": 69,
     "metadata": {},
     "output_type": "execute_result"
    }
   ],
   "source": [
    "preds = linear1(train_x)\n",
    "preds"
   ]
  },
  {
   "cell_type": "markdown",
   "id": "41923c54-0199-4804-938c-9c9844e879c5",
   "metadata": {},
   "source": [
    "batch@weights + bias 是神经网络最基本的方程之一\n",
    "\n",
    "计算正确率"
   ]
  },
  {
   "cell_type": "code",
   "execution_count": 70,
   "id": "ffd79e5a-9eb5-479e-b045-389fc093f3ff",
   "metadata": {
    "execution": {
     "iopub.execute_input": "2023-04-19T03:22:08.657046Z",
     "iopub.status.busy": "2023-04-19T03:22:08.655471Z",
     "iopub.status.idle": "2023-04-19T03:22:08.667066Z",
     "shell.execute_reply": "2023-04-19T03:22:08.666017Z",
     "shell.execute_reply.started": "2023-04-19T03:22:08.656988Z"
    }
   },
   "outputs": [
    {
     "data": {
      "text/plain": [
       "tensor([[ True],\n",
       "        [ True],\n",
       "        [ True],\n",
       "        ...,\n",
       "        [False],\n",
       "        [False],\n",
       "        [False]])"
      ]
     },
     "execution_count": 70,
     "metadata": {},
     "output_type": "execute_result"
    }
   ],
   "source": [
    "corrects = (preds>0.0).float() == train_y\n",
    "corrects"
   ]
  },
  {
   "cell_type": "code",
   "execution_count": 71,
   "id": "3f30a539-7e15-4c2d-982c-f7f71287aa88",
   "metadata": {
    "execution": {
     "iopub.execute_input": "2023-04-19T03:22:08.668816Z",
     "iopub.status.busy": "2023-04-19T03:22:08.668455Z",
     "iopub.status.idle": "2023-04-19T03:22:08.691660Z",
     "shell.execute_reply": "2023-04-19T03:22:08.690667Z",
     "shell.execute_reply.started": "2023-04-19T03:22:08.668777Z"
    }
   },
   "outputs": [
    {
     "data": {
      "text/plain": [
       "0.4912068545818329"
      ]
     },
     "execution_count": 71,
     "metadata": {},
     "output_type": "execute_result"
    }
   ],
   "source": [
    "corrects.float().mean().item()"
   ]
  },
  {
   "cell_type": "markdown",
   "id": "3443c719-343f-484a-8fc2-e6eaf240a4c5",
   "metadata": {},
   "source": [
    "告诉pytorch不要计算梯度，调整权重看看正确率"
   ]
  },
  {
   "cell_type": "code",
   "execution_count": 72,
   "id": "72841053-cde9-4fee-a52e-c22ba380bce1",
   "metadata": {
    "execution": {
     "iopub.execute_input": "2023-04-19T03:22:08.694437Z",
     "iopub.status.busy": "2023-04-19T03:22:08.693497Z",
     "iopub.status.idle": "2023-04-19T03:22:08.701010Z",
     "shell.execute_reply": "2023-04-19T03:22:08.699576Z",
     "shell.execute_reply.started": "2023-04-19T03:22:08.694437Z"
    }
   },
   "outputs": [],
   "source": [
    "with torch.no_grad(): weights[0] *= 1.0001"
   ]
  },
  {
   "cell_type": "code",
   "execution_count": 73,
   "id": "a500db96-a694-4beb-93fa-0fec47cad344",
   "metadata": {
    "execution": {
     "iopub.execute_input": "2023-04-19T03:22:08.703879Z",
     "iopub.status.busy": "2023-04-19T03:22:08.702665Z",
     "iopub.status.idle": "2023-04-19T03:22:08.717660Z",
     "shell.execute_reply": "2023-04-19T03:22:08.716315Z",
     "shell.execute_reply.started": "2023-04-19T03:22:08.703826Z"
    }
   },
   "outputs": [
    {
     "data": {
      "text/plain": [
       "0.4912068545818329"
      ]
     },
     "execution_count": 73,
     "metadata": {},
     "output_type": "execute_result"
    }
   ],
   "source": [
    "preds = linear1(train_x)\n",
    "((preds>0.0).float() == train_y).float().mean().item()"
   ]
  },
  {
   "cell_type": "markdown",
   "id": "cbf72b1d-f1c0-4412-a4d6-d9af76935c5a",
   "metadata": {},
   "source": [
    "因为从3-7准确率才会变化 所以这里调整一个权重准确率没什么变化，梯度为0，虽然预测的preds可能变了一些\n",
    "\n",
    "> 权重值的非常小的变化通常根本不会改变准确度。这意味着使用准确性作为损失函数是没有用的——如果我们这样做，大多数时候我们的梯度实际上是 0，模型将无法从该数字中学习。"
   ]
  },
  {
   "cell_type": "markdown",
   "id": "d1579825-923b-48c6-8af3-2f7a8693ba2d",
   "metadata": {},
   "source": [
    "我们要一个什么样的loss函数\n",
    "loss函数的参数是模型的预测和真实值\n",
    "提出一个参数 prds 值在0-1中间，值是3的预测，每个像素都有，就是一个向量 一维张量\n",
    "提出一个参数trgts 作为目标，标签 0 / 1 表示是不是3\n",
    "假设有三个图片 3 7 3 ，模型预测第一个0.9 ，第二个0.4 第三个 0.2\n",
    "prds和trgts就是这样的"
   ]
  },
  {
   "cell_type": "code",
   "execution_count": 74,
   "id": "614d1e0e-94f5-46d2-b1b6-e01fc17f1536",
   "metadata": {
    "execution": {
     "iopub.execute_input": "2023-04-19T03:22:08.719144Z",
     "iopub.status.busy": "2023-04-19T03:22:08.718752Z",
     "iopub.status.idle": "2023-04-19T03:22:08.725902Z",
     "shell.execute_reply": "2023-04-19T03:22:08.724606Z",
     "shell.execute_reply.started": "2023-04-19T03:22:08.719108Z"
    }
   },
   "outputs": [],
   "source": [
    "prds = tensor([0.9,0.4,0.2])\n",
    "trgts = tensor([1, 0, 1])"
   ]
  },
  {
   "cell_type": "markdown",
   "id": "0a290add-c8d2-4f74-8719-65bbe104d4ca",
   "metadata": {},
   "source": [
    "可以创建一个loss函数"
   ]
  },
  {
   "cell_type": "code",
   "execution_count": 75,
   "id": "0b546bb1-cd03-4bef-8f45-64c12d6f3267",
   "metadata": {
    "execution": {
     "iopub.execute_input": "2023-04-19T03:22:08.727641Z",
     "iopub.status.busy": "2023-04-19T03:22:08.727267Z",
     "iopub.status.idle": "2023-04-19T03:22:08.734168Z",
     "shell.execute_reply": "2023-04-19T03:22:08.732913Z",
     "shell.execute_reply.started": "2023-04-19T03:22:08.727602Z"
    }
   },
   "outputs": [],
   "source": [
    "def mnist_loss(predictions, targets):\n",
    "    return torch.where(targets==1, 1-predictions, predictions).mean()"
   ]
  },
  {
   "cell_type": "code",
   "execution_count": 76,
   "id": "a933cc45-e2e5-4d7c-bb86-f15be06069c6",
   "metadata": {
    "execution": {
     "iopub.execute_input": "2023-04-19T03:22:08.736195Z",
     "iopub.status.busy": "2023-04-19T03:22:08.735753Z",
     "iopub.status.idle": "2023-04-19T03:22:08.745745Z",
     "shell.execute_reply": "2023-04-19T03:22:08.744427Z",
     "shell.execute_reply.started": "2023-04-19T03:22:08.736151Z"
    }
   },
   "outputs": [
    {
     "data": {
      "text/plain": [
       "tensor(0.4333)"
      ]
     },
     "execution_count": 76,
     "metadata": {},
     "output_type": "execute_result"
    }
   ],
   "source": [
    "mnist_loss(prds,trgts)"
   ]
  },
  {
   "cell_type": "markdown",
   "id": "e5d686d2-640d-42ac-9834-822c2d9a77e1",
   "metadata": {},
   "source": [
    "问题：prds 要求是0-1之间，怎么将我们的预测结果转到0-1"
   ]
  },
  {
   "cell_type": "markdown",
   "id": "3a0ce661-c84f-40e8-86d2-43c7087e1718",
   "metadata": {},
   "source": [
    "##### Sigmodi"
   ]
  },
  {
   "cell_type": "code",
   "execution_count": 77,
   "id": "f98022a5-b3bf-4a53-8c8f-a06cccdf6fb1",
   "metadata": {
    "execution": {
     "iopub.execute_input": "2023-04-19T03:22:08.748107Z",
     "iopub.status.busy": "2023-04-19T03:22:08.747626Z",
     "iopub.status.idle": "2023-04-19T03:22:08.918633Z",
     "shell.execute_reply": "2023-04-19T03:22:08.917351Z",
     "shell.execute_reply.started": "2023-04-19T03:22:08.748065Z"
    }
   },
   "outputs": [
    {
     "data": {
      "image/png": "[encoded data removed]",
      "text/plain": [
       "<Figure size 432x288 with 1 Axes>"
      ]
     },
     "metadata": {
      "needs_background": "light"
     },
     "output_type": "display_data"
    }
   ],
   "source": [
    "plot_function(torch.sigmoid, title='Sigmodi', min=-4, max=4)"
   ]
  },
  {
   "cell_type": "markdown",
   "id": "4ea3e2b4-0ee3-402f-bf33-c148dce1c95d",
   "metadata": {},
   "source": [
    "新的loss函数为"
   ]
  },
  {
   "cell_type": "code",
   "execution_count": 78,
   "id": "05cc6fa5-21b4-421b-b2a8-402ff552a166",
   "metadata": {
    "execution": {
     "iopub.execute_input": "2023-04-19T03:22:08.921910Z",
     "iopub.status.busy": "2023-04-19T03:22:08.921301Z",
     "iopub.status.idle": "2023-04-19T03:22:08.932314Z",
     "shell.execute_reply": "2023-04-19T03:22:08.930376Z",
     "shell.execute_reply.started": "2023-04-19T03:22:08.921866Z"
    }
   },
   "outputs": [],
   "source": [
    "def mnist_loss(predictions, targets):\n",
    "    predictions = predictions.sigmoid()\n",
    "    return torch.where(targets==1,1 - predictions, predictions).mean()"
   ]
  },
  {
   "cell_type": "markdown",
   "id": "b619f3e6-d392-406f-ba57-e9da0613bfc5",
   "metadata": {},
   "source": [
    "loss函数和准确率的区别是 准确率是给人看的 loss函数是驱动学习的"
   ]
  },
  {
   "cell_type": "markdown",
   "id": "c9313234-f80f-4fe9-92e2-e68aa01bc99b",
   "metadata": {},
   "source": [
    "全部数据的损失计算耗时太大\n",
    "单个数据的损失计算意义不太\n",
    "折中取一批数据进行损失计算\n",
    "同时GPU对一批数据处理有优势，太多也会耗尽显存\n",
    "批量数据的取法也需要随机取 "
   ]
  },
  {
   "cell_type": "code",
   "execution_count": 79,
   "id": "df273273-ac13-4b70-ad9b-ffdd791cc5af",
   "metadata": {
    "execution": {
     "iopub.execute_input": "2023-04-19T03:22:08.934991Z",
     "iopub.status.busy": "2023-04-19T03:22:08.934730Z",
     "iopub.status.idle": "2023-04-19T03:22:08.944977Z",
     "shell.execute_reply": "2023-04-19T03:22:08.944222Z",
     "shell.execute_reply.started": "2023-04-19T03:22:08.934964Z"
    }
   },
   "outputs": [
    {
     "data": {
      "text/plain": [
       "[tensor([ 3, 12,  8, 10,  2]),\n",
       " tensor([ 9,  4,  7, 14,  5]),\n",
       " tensor([ 1, 13,  0,  6, 11])]"
      ]
     },
     "execution_count": 79,
     "metadata": {},
     "output_type": "execute_result"
    }
   ],
   "source": [
    "coll = range(15)\n",
    "dl = DataLoader(coll ,batch_size=5, shuffle=True)\n",
    "list(dl)"
   ]
  },
  {
   "cell_type": "markdown",
   "id": "56c34e70-487d-4d77-9bad-06338b04e97d",
   "metadata": {},
   "source": [
    "pytorch中Dataset是包含相关和不相关变量的元组 inputs  targets 示例"
   ]
  },
  {
   "cell_type": "code",
   "execution_count": 80,
   "id": "0f235a17-ccb1-4ee7-a938-bf3ce4c98c16",
   "metadata": {
    "execution": {
     "iopub.execute_input": "2023-04-19T03:22:08.946822Z",
     "iopub.status.busy": "2023-04-19T03:22:08.946374Z",
     "iopub.status.idle": "2023-04-19T03:22:08.955794Z",
     "shell.execute_reply": "2023-04-19T03:22:08.954489Z",
     "shell.execute_reply.started": "2023-04-19T03:22:08.946774Z"
    }
   },
   "outputs": [
    {
     "data": {
      "text/plain": [
       "(#26) [(0, 'a'),(1, 'b'),(2, 'c'),(3, 'd'),(4, 'e'),(5, 'f'),(6, 'g'),(7, 'h'),(8, 'i'),(9, 'j')...]"
      ]
     },
     "execution_count": 80,
     "metadata": {},
     "output_type": "execute_result"
    }
   ],
   "source": [
    "ds = L(enumerate(string.ascii_lowercase))\n",
    "ds"
   ]
  },
  {
   "cell_type": "markdown",
   "id": "807f9738-2474-4da6-aa97-f16c7df47e3e",
   "metadata": {},
   "source": [
    "### 合到一起"
   ]
  },
  {
   "cell_type": "markdown",
   "id": "fe909136-a064-472e-b05c-0864dcdda1e3",
   "metadata": {},
   "source": [
    "我们每个epoch的处理类似下面的代码\n",
    "```python\n",
    "for x,y in dl:\n",
    "    pred = model(x)\n",
    "    loss = loss_func(pred, y)\n",
    "    loss.backward()\n",
    "    parameters -= lr * parameters.grad\n",
    "```"
   ]
  },
  {
   "cell_type": "markdown",
   "id": "66413cf6-cc3f-4dbe-9a91-59802c3c42c4",
   "metadata": {},
   "source": [
    "重新初始化权重参数"
   ]
  },
  {
   "cell_type": "code",
   "execution_count": 81,
   "id": "05e5b021-8569-4fcf-ad73-a4e378fbc3c6",
   "metadata": {
    "execution": {
     "iopub.execute_input": "2023-04-19T03:22:08.957765Z",
     "iopub.status.busy": "2023-04-19T03:22:08.957475Z",
     "iopub.status.idle": "2023-04-19T03:22:08.964672Z",
     "shell.execute_reply": "2023-04-19T03:22:08.963287Z",
     "shell.execute_reply.started": "2023-04-19T03:22:08.957765Z"
    }
   },
   "outputs": [],
   "source": [
    "weights = init_params((28*28,1))\n",
    "bias = init_params(1)"
   ]
  },
  {
   "cell_type": "markdown",
   "id": "2effaf3c-7148-4330-a7bd-fc670aab61cd",
   "metadata": {},
   "source": [
    "从DataSet创建一个DataLoader"
   ]
  },
  {
   "cell_type": "code",
   "execution_count": 82,
   "id": "68f2f2b4-04f1-4e0c-ad97-4a935e76978a",
   "metadata": {
    "execution": {
     "iopub.execute_input": "2023-04-19T03:22:08.975356Z",
     "iopub.status.busy": "2023-04-19T03:22:08.974359Z",
     "iopub.status.idle": "2023-04-19T03:22:08.986265Z",
     "shell.execute_reply": "2023-04-19T03:22:08.984440Z",
     "shell.execute_reply.started": "2023-04-19T03:22:08.975329Z"
    }
   },
   "outputs": [
    {
     "data": {
      "text/plain": [
       "(torch.Size([256, 784]), torch.Size([256, 1]))"
      ]
     },
     "execution_count": 82,
     "metadata": {},
     "output_type": "execute_result"
    }
   ],
   "source": [
    "dl = DataLoader(dset, batch_size=256)\n",
    "xb, yb = first(dl)\n",
    "xb.shape, yb.shape"
   ]
  },
  {
   "cell_type": "markdown",
   "id": "a2682ca8-4440-48d8-bcb6-b082354ee290",
   "metadata": {},
   "source": [
    "对验证集做同样的处理"
   ]
  },
  {
   "cell_type": "code",
   "execution_count": 83,
   "id": "a86c5d7e-2935-4e2b-8778-7b2f796a838e",
   "metadata": {
    "execution": {
     "iopub.execute_input": "2023-04-19T03:22:08.990495Z",
     "iopub.status.busy": "2023-04-19T03:22:08.990218Z",
     "iopub.status.idle": "2023-04-19T03:22:08.996251Z",
     "shell.execute_reply": "2023-04-19T03:22:08.994703Z",
     "shell.execute_reply.started": "2023-04-19T03:22:08.990470Z"
    }
   },
   "outputs": [],
   "source": [
    "valid_dl = DataLoader(valid_dset, batch_size=256)"
   ]
  },
  {
   "cell_type": "markdown",
   "id": "0860dc48-5197-48eb-8bc2-d4c40713a9ae",
   "metadata": {},
   "source": [
    "取一小批测试下"
   ]
  },
  {
   "cell_type": "code",
   "execution_count": 84,
   "id": "52339157-3ec0-4e61-b6bd-9af19f5e0a29",
   "metadata": {
    "execution": {
     "iopub.execute_input": "2023-04-19T03:22:09.000649Z",
     "iopub.status.busy": "2023-04-19T03:22:09.000416Z",
     "iopub.status.idle": "2023-04-19T03:22:09.010752Z",
     "shell.execute_reply": "2023-04-19T03:22:09.009609Z",
     "shell.execute_reply.started": "2023-04-19T03:22:09.000626Z"
    }
   },
   "outputs": [
    {
     "data": {
      "text/plain": [
       "tensor(0.9998, grad_fn=<MeanBackward0>)"
      ]
     },
     "execution_count": 84,
     "metadata": {},
     "output_type": "execute_result"
    }
   ],
   "source": [
    "batch = train_x[:4]\n",
    "preds = linear1(batch)\n",
    "loss = mnist_loss(preds, train_y[:4])\n",
    "loss"
   ]
  },
  {
   "cell_type": "code",
   "execution_count": 85,
   "id": "34c7fc86-7fcc-42c0-9d56-d9312c9c6819",
   "metadata": {
    "execution": {
     "iopub.execute_input": "2023-04-19T03:22:09.014941Z",
     "iopub.status.busy": "2023-04-19T03:22:09.014603Z",
     "iopub.status.idle": "2023-04-19T03:22:09.026319Z",
     "shell.execute_reply": "2023-04-19T03:22:09.024799Z",
     "shell.execute_reply.started": "2023-04-19T03:22:09.014941Z"
    }
   },
   "outputs": [
    {
     "data": {
      "text/plain": [
       "(torch.Size([784, 1]), tensor(-2.7033e-05), tensor([-0.0002]))"
      ]
     },
     "execution_count": 85,
     "metadata": {},
     "output_type": "execute_result"
    }
   ],
   "source": [
    "loss.backward()\n",
    "weights.grad.shape,weights.grad.mean(),bias.grad"
   ]
  },
  {
   "cell_type": "markdown",
   "id": "d1b4ea22-e146-47ea-b027-883b38066579",
   "metadata": {},
   "source": [
    "抽象到一个函数中"
   ]
  },
  {
   "cell_type": "code",
   "execution_count": 86,
   "id": "de7e7c7c-55eb-4434-a272-f2e08b62ba11",
   "metadata": {
    "execution": {
     "iopub.execute_input": "2023-04-19T03:22:09.031184Z",
     "iopub.status.busy": "2023-04-19T03:22:09.030859Z",
     "iopub.status.idle": "2023-04-19T03:22:09.037110Z",
     "shell.execute_reply": "2023-04-19T03:22:09.035706Z",
     "shell.execute_reply.started": "2023-04-19T03:22:09.031156Z"
    }
   },
   "outputs": [],
   "source": [
    "def calc_grad(xb, yb, model):\n",
    "    preds = model(xb)\n",
    "    loss = mnist_loss(preds, yb)\n",
    "    loss.backward()"
   ]
  },
  {
   "cell_type": "code",
   "execution_count": 87,
   "id": "63784888-6442-40f9-be35-d850a42daaf9",
   "metadata": {
    "execution": {
     "iopub.execute_input": "2023-04-19T03:22:09.041913Z",
     "iopub.status.busy": "2023-04-19T03:22:09.041676Z",
     "iopub.status.idle": "2023-04-19T03:22:09.051227Z",
     "shell.execute_reply": "2023-04-19T03:22:09.050554Z",
     "shell.execute_reply.started": "2023-04-19T03:22:09.041887Z"
    }
   },
   "outputs": [
    {
     "data": {
      "text/plain": [
       "(torch.Size([784, 1]), tensor(-5.4066e-05), tensor([-0.0004]))"
      ]
     },
     "execution_count": 87,
     "metadata": {},
     "output_type": "execute_result"
    }
   ],
   "source": [
    "calc_grad(batch, train_y[:4], linear1)\n",
    "weights.grad.shape,weights.grad.mean(),bias.grad"
   ]
  },
  {
   "cell_type": "markdown",
   "id": "a221efe0-2ece-4ba6-ac90-4859150590f6",
   "metadata": {},
   "source": [
    "由于多次计算存储梯度 导致结果不同，我们需要先重置梯度"
   ]
  },
  {
   "cell_type": "code",
   "execution_count": 88,
   "id": "1c55d359-aa25-4b3d-b40f-0e7094e08194",
   "metadata": {
    "execution": {
     "iopub.execute_input": "2023-04-19T03:22:09.054931Z",
     "iopub.status.busy": "2023-04-19T03:22:09.054677Z",
     "iopub.status.idle": "2023-04-19T03:22:09.062399Z",
     "shell.execute_reply": "2023-04-19T03:22:09.061334Z",
     "shell.execute_reply.started": "2023-04-19T03:22:09.054906Z"
    }
   },
   "outputs": [
    {
     "data": {
      "text/plain": [
       "tensor([0.])"
      ]
     },
     "execution_count": 88,
     "metadata": {},
     "output_type": "execute_result"
    }
   ],
   "source": [
    "weights.grad.zero_()\n",
    "bias.grad.zero_()"
   ]
  },
  {
   "cell_type": "markdown",
   "id": "14df55b1-8612-4422-9a2e-e4d2258d5a52",
   "metadata": {},
   "source": [
    "根据学习率和梯度优化，直接操作data  不然也会更新梯度值\n",
    "\n",
    "> 当我们对参数进行更新时，必须将梯度清零，以确保梯度不会累积"
   ]
  },
  {
   "cell_type": "code",
   "execution_count": 89,
   "id": "ef81ac6c-eeb3-4f88-b7a6-82d4bff004cb",
   "metadata": {
    "execution": {
     "iopub.execute_input": "2023-04-19T03:22:09.066002Z",
     "iopub.status.busy": "2023-04-19T03:22:09.065760Z",
     "iopub.status.idle": "2023-04-19T03:22:09.074145Z",
     "shell.execute_reply": "2023-04-19T03:22:09.072850Z",
     "shell.execute_reply.started": "2023-04-19T03:22:09.065972Z"
    }
   },
   "outputs": [],
   "source": [
    "def train_epoch(model, lr, params):\n",
    "    for xb, yb in dl:\n",
    "        calc_grad(xb, yb, model)\n",
    "        for p in params:\n",
    "            p.data -= p.grad * lr\n",
    "            p.grad.zero_()"
   ]
  },
  {
   "cell_type": "markdown",
   "id": "b67e450c-ec49-4557-be20-e9ac5bf6882c",
   "metadata": {},
   "source": [
    "在验证集上检查准确性\n",
    "大于0.5就算准确"
   ]
  },
  {
   "cell_type": "code",
   "execution_count": 90,
   "id": "9abbc50c-057e-48b0-864e-d3546dea494a",
   "metadata": {
    "execution": {
     "iopub.execute_input": "2023-04-19T03:22:09.075623Z",
     "iopub.status.busy": "2023-04-19T03:22:09.075367Z",
     "iopub.status.idle": "2023-04-19T03:22:09.081506Z",
     "shell.execute_reply": "2023-04-19T03:22:09.080122Z",
     "shell.execute_reply.started": "2023-04-19T03:22:09.075599Z"
    }
   },
   "outputs": [],
   "source": [
    "def batch_accuracy(xb, yb):\n",
    "    preds = xb.sigmoid()\n",
    "    correct = (preds>0.5) == yb\n",
    "    return correct.float().mean()"
   ]
  },
  {
   "cell_type": "code",
   "execution_count": 91,
   "id": "beb57246-5ac2-406d-92cd-dbf2a72d1079",
   "metadata": {
    "execution": {
     "iopub.execute_input": "2023-04-19T03:22:09.083585Z",
     "iopub.status.busy": "2023-04-19T03:22:09.083230Z",
     "iopub.status.idle": "2023-04-19T03:22:09.091923Z",
     "shell.execute_reply": "2023-04-19T03:22:09.091026Z",
     "shell.execute_reply.started": "2023-04-19T03:22:09.083558Z"
    }
   },
   "outputs": [
    {
     "data": {
      "text/plain": [
       "tensor(0.)"
      ]
     },
     "execution_count": 91,
     "metadata": {},
     "output_type": "execute_result"
    }
   ],
   "source": [
    "batch_accuracy(linear1(batch), train_y[:4])"
   ]
  },
  {
   "cell_type": "markdown",
   "id": "6a3cb723-fdf0-471f-bba1-9f384f1bb305",
   "metadata": {},
   "source": [
    "每个epoch进行验证"
   ]
  },
  {
   "cell_type": "code",
   "execution_count": 92,
   "id": "817f2b96-4a37-434c-b8f0-62ba49275fb8",
   "metadata": {
    "execution": {
     "iopub.execute_input": "2023-04-19T03:22:09.093191Z",
     "iopub.status.busy": "2023-04-19T03:22:09.092909Z",
     "iopub.status.idle": "2023-04-19T03:22:09.098775Z",
     "shell.execute_reply": "2023-04-19T03:22:09.097463Z",
     "shell.execute_reply.started": "2023-04-19T03:22:09.093165Z"
    }
   },
   "outputs": [],
   "source": [
    "def validate_epoch(model):\n",
    "    accs = [batch_accuracy(model(xb), yb) for xb,yb in valid_dl]\n",
    "    return round(torch.stack(accs).mean().item(),4)"
   ]
  },
  {
   "cell_type": "code",
   "execution_count": 93,
   "id": "173bed4e-99dc-4eeb-ae07-6a7fce513f80",
   "metadata": {
    "execution": {
     "iopub.execute_input": "2023-04-19T03:22:09.101177Z",
     "iopub.status.busy": "2023-04-19T03:22:09.100687Z",
     "iopub.status.idle": "2023-04-19T03:22:09.151100Z",
     "shell.execute_reply": "2023-04-19T03:22:09.150088Z",
     "shell.execute_reply.started": "2023-04-19T03:22:09.101137Z"
    }
   },
   "outputs": [
    {
     "data": {
      "text/plain": [
       "0.2875"
      ]
     },
     "execution_count": 93,
     "metadata": {},
     "output_type": "execute_result"
    }
   ],
   "source": [
    "validate_epoch(linear1)"
   ]
  },
  {
   "cell_type": "markdown",
   "id": "ff880ffd-4a69-48ea-9e53-1d64f140a4e9",
   "metadata": {},
   "source": [
    "跑一轮试试"
   ]
  },
  {
   "cell_type": "code",
   "execution_count": 94,
   "id": "6fe02c5f-0378-4de7-988f-c0ee87ede1b7",
   "metadata": {
    "execution": {
     "iopub.execute_input": "2023-04-19T03:22:09.153293Z",
     "iopub.status.busy": "2023-04-19T03:22:09.152931Z",
     "iopub.status.idle": "2023-04-19T03:22:09.397571Z",
     "shell.execute_reply": "2023-04-19T03:22:09.396306Z",
     "shell.execute_reply.started": "2023-04-19T03:22:09.153265Z"
    }
   },
   "outputs": [
    {
     "data": {
      "text/plain": [
       "0.512"
      ]
     },
     "execution_count": 94,
     "metadata": {},
     "output_type": "execute_result"
    }
   ],
   "source": [
    "lr = 1.\n",
    "params = weights,bias\n",
    "train_epoch(linear1, lr, params)\n",
    "validate_epoch(linear1)"
   ]
  },
  {
   "cell_type": "code",
   "execution_count": 95,
   "id": "800c538e-12f7-411b-b319-aec09d4752b5",
   "metadata": {
    "execution": {
     "iopub.execute_input": "2023-04-19T03:22:09.399100Z",
     "iopub.status.busy": "2023-04-19T03:22:09.398766Z",
     "iopub.status.idle": "2023-04-19T03:22:13.562145Z",
     "shell.execute_reply": "2023-04-19T03:22:13.560951Z",
     "shell.execute_reply.started": "2023-04-19T03:22:09.399100Z"
    }
   },
   "outputs": [
    {
     "name": "stdout",
     "output_type": "stream",
     "text": [
      "0.6682 0.8144 0.9043 0.9311 0.9433 0.9511 0.9554 0.9598 0.9657 0.9667 0.9677 0.9686 0.9691 0.9691 0.9696 0.9701 0.9701 0.9706 0.9716 0.9716 "
     ]
    }
   ],
   "source": [
    "for i in range(20):\n",
    "    train_epoch(linear1, lr, params)\n",
    "    print(validate_epoch(linear1), end=\" \")"
   ]
  },
  {
   "cell_type": "markdown",
   "id": "0daf4aaf-609d-4e09-8e47-b680989a0209",
   "metadata": {},
   "source": [
    "pytorch 中 nn.Linear 可以简单的创建一个我们的linear1"
   ]
  },
  {
   "cell_type": "code",
   "execution_count": 96,
   "id": "2fa1b965-8784-4e0f-a336-6919a573760f",
   "metadata": {
    "execution": {
     "iopub.execute_input": "2023-04-19T03:22:13.563795Z",
     "iopub.status.busy": "2023-04-19T03:22:13.563623Z",
     "iopub.status.idle": "2023-04-19T03:22:13.568927Z",
     "shell.execute_reply": "2023-04-19T03:22:13.567770Z",
     "shell.execute_reply.started": "2023-04-19T03:22:13.563795Z"
    }
   },
   "outputs": [],
   "source": [
    "linear_model = nn.Linear(28*28,1)"
   ]
  },
  {
   "cell_type": "code",
   "execution_count": 97,
   "id": "1350b949-c44c-4b7e-9de7-f7d45f65e5bb",
   "metadata": {
    "execution": {
     "iopub.execute_input": "2023-04-19T03:22:13.570439Z",
     "iopub.status.busy": "2023-04-19T03:22:13.570188Z",
     "iopub.status.idle": "2023-04-19T03:22:13.577743Z",
     "shell.execute_reply": "2023-04-19T03:22:13.576655Z",
     "shell.execute_reply.started": "2023-04-19T03:22:13.570413Z"
    }
   },
   "outputs": [
    {
     "data": {
      "text/plain": [
       "(torch.Size([1, 784]), torch.Size([1]))"
      ]
     },
     "execution_count": 97,
     "metadata": {},
     "output_type": "execute_result"
    }
   ],
   "source": [
    "w,b = linear_model.parameters()\n",
    "w.shape,b.shape"
   ]
  },
  {
   "cell_type": "markdown",
   "id": "ccc3749e-5efe-42e2-a591-a40864e46a7d",
   "metadata": {},
   "source": [
    "SGD 也是通用的步骤，使用fastai的SGD优化器代码如下"
   ]
  },
  {
   "cell_type": "code",
   "execution_count": 98,
   "id": "43b73924-29cb-4398-b103-84457f92d644",
   "metadata": {
    "execution": {
     "iopub.execute_input": "2023-04-19T03:22:13.579626Z",
     "iopub.status.busy": "2023-04-19T03:22:13.579204Z",
     "iopub.status.idle": "2023-04-19T03:22:13.593361Z",
     "shell.execute_reply": "2023-04-19T03:22:13.592145Z",
     "shell.execute_reply.started": "2023-04-19T03:22:13.579591Z"
    }
   },
   "outputs": [],
   "source": [
    "def train_epoch(model):\n",
    "    for xb,yb in dl:\n",
    "        calc_grad(xb, yb, model)\n",
    "        opt.step()\n",
    "        opt.zero_grad()"
   ]
  },
  {
   "cell_type": "code",
   "execution_count": 99,
   "id": "852cdfe7-aa1d-4ae2-b0a4-292069ee9f34",
   "metadata": {
    "execution": {
     "iopub.execute_input": "2023-04-19T03:22:13.594578Z",
     "iopub.status.busy": "2023-04-19T03:22:13.594338Z",
     "iopub.status.idle": "2023-04-19T03:22:13.599530Z",
     "shell.execute_reply": "2023-04-19T03:22:13.598388Z",
     "shell.execute_reply.started": "2023-04-19T03:22:13.594554Z"
    }
   },
   "outputs": [],
   "source": [
    "def train_model(model,epochs):\n",
    "    for i in range(epochs):\n",
    "        train_epoch(model)\n",
    "        print(validate_epoch(model), end=' ')"
   ]
  },
  {
   "cell_type": "code",
   "execution_count": 100,
   "id": "e2df633a-83ed-46f7-8274-cf1ae92dd0a0",
   "metadata": {
    "execution": {
     "iopub.execute_input": "2023-04-19T03:22:13.600769Z",
     "iopub.status.busy": "2023-04-19T03:22:13.600524Z",
     "iopub.status.idle": "2023-04-19T03:22:15.015709Z",
     "shell.execute_reply": "2023-04-19T03:22:15.014733Z",
     "shell.execute_reply.started": "2023-04-19T03:22:13.600737Z"
    }
   },
   "outputs": [
    {
     "name": "stdout",
     "output_type": "stream",
     "text": [
      "0.4932 0.8969 0.8105 0.9067 0.9316 0.9457 0.955 0.9623 0.9648 0.9662 "
     ]
    }
   ],
   "source": [
    "linear_model = nn.Linear(28*28,1)\n",
    "opt = SGD(linear_model.parameters(), lr)\n",
    "train_model(linear_model, 10)"
   ]
  },
  {
   "cell_type": "markdown",
   "id": "15ded76e-2048-4e8e-a26f-ef3637154e4a",
   "metadata": {},
   "source": [
    "fastai 也抽象了 Learner.fit 代替 train_model 可以从数据集和验证集的dataloader创建"
   ]
  },
  {
   "cell_type": "code",
   "execution_count": 101,
   "id": "6ac9cd10-9855-4a36-a6be-e7ed20377bb5",
   "metadata": {
    "execution": {
     "iopub.execute_input": "2023-04-19T03:22:15.019992Z",
     "iopub.status.busy": "2023-04-19T03:22:15.019612Z",
     "iopub.status.idle": "2023-04-19T03:22:17.599993Z",
     "shell.execute_reply": "2023-04-19T03:22:17.599154Z",
     "shell.execute_reply.started": "2023-04-19T03:22:15.019992Z"
    }
   },
   "outputs": [
    {
     "data": {
      "text/html": [
       "\n",
       "<style>\n",
       "    /* Turns off some styling */\n",
       "    progress {\n",
       "        /* gets rid of default border in Firefox and Opera. */\n",
       "        border: none;\n",
       "        /* Needs to be in here for Safari polyfill so background images work as expected. */\n",
       "        background-size: auto;\n",
       "    }\n",
       "    progress:not([value]), progress:not([value])::-webkit-progress-bar {\n",
       "        background: repeating-linear-gradient(45deg, #7e7e7e, #7e7e7e 10px, #5c5c5c 10px, #5c5c5c 20px);\n",
       "    }\n",
       "    .progress-bar-interrupted, .progress-bar-interrupted::-webkit-progress-bar {\n",
       "        background: #F44336;\n",
       "    }\n",
       "</style>\n"
      ],
      "text/plain": [
       "<IPython.core.display.HTML object>"
      ]
     },
     "metadata": {},
     "output_type": "display_data"
    },
    {
     "data": {
      "text/html": [
       "<table border=\"1\" class=\"dataframe\">\n",
       "  <thead>\n",
       "    <tr style=\"text-align: left;\">\n",
       "      <th>epoch</th>\n",
       "      <th>train_loss</th>\n",
       "      <th>valid_loss</th>\n",
       "      <th>batch_accuracy</th>\n",
       "      <th>time</th>\n",
       "    </tr>\n",
       "  </thead>\n",
       "  <tbody>\n",
       "    <tr>\n",
       "      <td>0</td>\n",
       "      <td>0.636975</td>\n",
       "      <td>0.503117</td>\n",
       "      <td>0.495584</td>\n",
       "      <td>00:00</td>\n",
       "    </tr>\n",
       "    <tr>\n",
       "      <td>1</td>\n",
       "      <td>0.427391</td>\n",
       "      <td>0.252948</td>\n",
       "      <td>0.765456</td>\n",
       "      <td>00:00</td>\n",
       "    </tr>\n",
       "    <tr>\n",
       "      <td>2</td>\n",
       "      <td>0.160750</td>\n",
       "      <td>0.157115</td>\n",
       "      <td>0.859666</td>\n",
       "      <td>00:00</td>\n",
       "    </tr>\n",
       "    <tr>\n",
       "      <td>3</td>\n",
       "      <td>0.072552</td>\n",
       "      <td>0.098883</td>\n",
       "      <td>0.916585</td>\n",
       "      <td>00:00</td>\n",
       "    </tr>\n",
       "    <tr>\n",
       "      <td>4</td>\n",
       "      <td>0.039941</td>\n",
       "      <td>0.073976</td>\n",
       "      <td>0.935231</td>\n",
       "      <td>00:00</td>\n",
       "    </tr>\n",
       "    <tr>\n",
       "      <td>5</td>\n",
       "      <td>0.027114</td>\n",
       "      <td>0.060023</td>\n",
       "      <td>0.948970</td>\n",
       "      <td>00:00</td>\n",
       "    </tr>\n",
       "    <tr>\n",
       "      <td>6</td>\n",
       "      <td>0.021781</td>\n",
       "      <td>0.051199</td>\n",
       "      <td>0.957802</td>\n",
       "      <td>00:00</td>\n",
       "    </tr>\n",
       "    <tr>\n",
       "      <td>7</td>\n",
       "      <td>0.019361</td>\n",
       "      <td>0.045256</td>\n",
       "      <td>0.962709</td>\n",
       "      <td>00:00</td>\n",
       "    </tr>\n",
       "    <tr>\n",
       "      <td>8</td>\n",
       "      <td>0.018097</td>\n",
       "      <td>0.041033</td>\n",
       "      <td>0.965653</td>\n",
       "      <td>00:00</td>\n",
       "    </tr>\n",
       "    <tr>\n",
       "      <td>9</td>\n",
       "      <td>0.017316</td>\n",
       "      <td>0.037893</td>\n",
       "      <td>0.968597</td>\n",
       "      <td>00:00</td>\n",
       "    </tr>\n",
       "  </tbody>\n",
       "</table>"
      ],
      "text/plain": [
       "<IPython.core.display.HTML object>"
      ]
     },
     "metadata": {},
     "output_type": "display_data"
    }
   ],
   "source": [
    "dls = DataLoaders(dl, valid_dl)\n",
    "learn = Learner(dls, nn.Linear(28*28,1),opt_func=SGD,loss_func=mnist_loss, metrics=batch_accuracy)\n",
    "learn.fit(10, lr=lr)"
   ]
  },
  {
   "cell_type": "markdown",
   "id": "51f93c70-ed83-4166-8d12-10aeaf1e8278",
   "metadata": {},
   "source": [
    "#### 添加一个非线性层"
   ]
  },
  {
   "cell_type": "markdown",
   "id": "ecc41684-4f8d-4da4-9433-9ded59cbd284",
   "metadata": {},
   "source": [
    "到目前为止，我们有一个优化函数参数的通用过程，我们已经在一个非常无聊的函数上进行了尝试：一个简单的线性分类器。线性分类器在其功能方面受到很大限制。为了让它更复杂一点（并且能够处理更多的任务），我们需要在两个线性分类器之间添加一些非线性的东西——这就是给我们一个神经网络的原因。"
   ]
  },
  {
   "cell_type": "code",
   "execution_count": 102,
   "id": "55c630cc-8a65-4175-a967-32034679da86",
   "metadata": {},
   "outputs": [],
   "source": [
    "def simple_net(xb):\n",
    "    res = xb@w1 + b1\n",
    "    res = res.max(tensor(0.0))\n",
    "    res = res@w2 + b2\n",
    "    return res"
   ]
  },
  {
   "cell_type": "markdown",
   "id": "a9366299-a226-4768-b991-f63fe596c18a",
   "metadata": {},
   "source": [
    "其实上面的max函数就是ReLU函数 输入小于0就是0  大于0就是输入本身\n",
    "画个曲线"
   ]
  },
  {
   "cell_type": "code",
   "execution_count": 103,
   "id": "0850541e-2137-4115-bbbf-acad2a23c9a5",
   "metadata": {},
   "outputs": [
    {
     "data": {
      "image/png": "[encoded data removed]",
      "text/plain": [
       "<Figure size 432x288 with 1 Axes>"
      ]
     },
     "metadata": {
      "needs_background": "light"
     },
     "output_type": "display_data"
    }
   ],
   "source": [
    "plot_function(F.relu)"
   ]
  },
  {
   "cell_type": "markdown",
   "id": "ccb4d3ee-e0f6-4d79-948c-da5bd4ee2ae7",
   "metadata": {},
   "source": [
    "使用pytorch简化一下就是\n",
    "注意下 30是一个可以设置的特征值 表示第一层会输出30个特征值  relu 输入输出都是30   第二个线性层必须也要有30个输入"
   ]
  },
  {
   "cell_type": "code",
   "execution_count": 105,
   "id": "9e663249-2226-4b63-9f4d-a62f3830d312",
   "metadata": {},
   "outputs": [],
   "source": [
    "simple_net = nn.Sequential(\n",
    "    nn.Linear(28*28,30),\n",
    "    nn.ReLU(),\n",
    "    nn.Linear(30, 1)\n",
    ")"
   ]
  },
  {
   "cell_type": "code",
   "execution_count": 106,
   "id": "9d79fc63-a794-4109-aebf-aaf4e80ab0d5",
   "metadata": {},
   "outputs": [],
   "source": [
    "learn = Learner(dls , simple_net, opt_func=SGD, loss_func=mnist_loss, metrics=batch_accuracy)"
   ]
  },
  {
   "cell_type": "code",
   "execution_count": 107,
   "id": "b0f87348-288e-49ab-8209-e5fdae1ebfd7",
   "metadata": {
    "tags": []
   },
   "outputs": [
    {
     "data": {
      "text/html": [
       "\n",
       "<style>\n",
       "    /* Turns off some styling */\n",
       "    progress {\n",
       "        /* gets rid of default border in Firefox and Opera. */\n",
       "        border: none;\n",
       "        /* Needs to be in here for Safari polyfill so background images work as expected. */\n",
       "        background-size: auto;\n",
       "    }\n",
       "    progress:not([value]), progress:not([value])::-webkit-progress-bar {\n",
       "        background: repeating-linear-gradient(45deg, #7e7e7e, #7e7e7e 10px, #5c5c5c 10px, #5c5c5c 20px);\n",
       "    }\n",
       "    .progress-bar-interrupted, .progress-bar-interrupted::-webkit-progress-bar {\n",
       "        background: #F44336;\n",
       "    }\n",
       "</style>\n"
      ],
      "text/plain": [
       "<IPython.core.display.HTML object>"
      ]
     },
     "metadata": {},
     "output_type": "display_data"
    },
    {
     "data": {
      "text/html": [
       "<table border=\"1\" class=\"dataframe\">\n",
       "  <thead>\n",
       "    <tr style=\"text-align: left;\">\n",
       "      <th>epoch</th>\n",
       "      <th>train_loss</th>\n",
       "      <th>valid_loss</th>\n",
       "      <th>batch_accuracy</th>\n",
       "      <th>time</th>\n",
       "    </tr>\n",
       "  </thead>\n",
       "  <tbody>\n",
       "    <tr>\n",
       "      <td>0</td>\n",
       "      <td>0.360207</td>\n",
       "      <td>0.411832</td>\n",
       "      <td>0.504907</td>\n",
       "      <td>00:00</td>\n",
       "    </tr>\n",
       "    <tr>\n",
       "      <td>1</td>\n",
       "      <td>0.164926</td>\n",
       "      <td>0.252711</td>\n",
       "      <td>0.772816</td>\n",
       "      <td>00:00</td>\n",
       "    </tr>\n",
       "    <tr>\n",
       "      <td>2</td>\n",
       "      <td>0.088863</td>\n",
       "      <td>0.121800</td>\n",
       "      <td>0.911678</td>\n",
       "      <td>00:00</td>\n",
       "    </tr>\n",
       "    <tr>\n",
       "      <td>3</td>\n",
       "      <td>0.056648</td>\n",
       "      <td>0.080006</td>\n",
       "      <td>0.941119</td>\n",
       "      <td>00:00</td>\n",
       "    </tr>\n",
       "    <tr>\n",
       "      <td>4</td>\n",
       "      <td>0.041973</td>\n",
       "      <td>0.061718</td>\n",
       "      <td>0.955348</td>\n",
       "      <td>00:00</td>\n",
       "    </tr>\n",
       "    <tr>\n",
       "      <td>5</td>\n",
       "      <td>0.034655</td>\n",
       "      <td>0.051660</td>\n",
       "      <td>0.963690</td>\n",
       "      <td>00:00</td>\n",
       "    </tr>\n",
       "    <tr>\n",
       "      <td>6</td>\n",
       "      <td>0.030559</td>\n",
       "      <td>0.045390</td>\n",
       "      <td>0.966143</td>\n",
       "      <td>00:00</td>\n",
       "    </tr>\n",
       "    <tr>\n",
       "      <td>7</td>\n",
       "      <td>0.027956</td>\n",
       "      <td>0.041136</td>\n",
       "      <td>0.967125</td>\n",
       "      <td>00:00</td>\n",
       "    </tr>\n",
       "    <tr>\n",
       "      <td>8</td>\n",
       "      <td>0.026108</td>\n",
       "      <td>0.038059</td>\n",
       "      <td>0.969087</td>\n",
       "      <td>00:00</td>\n",
       "    </tr>\n",
       "    <tr>\n",
       "      <td>9</td>\n",
       "      <td>0.024691</td>\n",
       "      <td>0.035715</td>\n",
       "      <td>0.970559</td>\n",
       "      <td>00:00</td>\n",
       "    </tr>\n",
       "    <tr>\n",
       "      <td>10</td>\n",
       "      <td>0.023547</td>\n",
       "      <td>0.033862</td>\n",
       "      <td>0.972522</td>\n",
       "      <td>00:00</td>\n",
       "    </tr>\n",
       "    <tr>\n",
       "      <td>11</td>\n",
       "      <td>0.022594</td>\n",
       "      <td>0.032345</td>\n",
       "      <td>0.973503</td>\n",
       "      <td>00:00</td>\n",
       "    </tr>\n",
       "    <tr>\n",
       "      <td>12</td>\n",
       "      <td>0.021782</td>\n",
       "      <td>0.031078</td>\n",
       "      <td>0.974485</td>\n",
       "      <td>00:00</td>\n",
       "    </tr>\n",
       "    <tr>\n",
       "      <td>13</td>\n",
       "      <td>0.021080</td>\n",
       "      <td>0.029995</td>\n",
       "      <td>0.975466</td>\n",
       "      <td>00:00</td>\n",
       "    </tr>\n",
       "    <tr>\n",
       "      <td>14</td>\n",
       "      <td>0.020465</td>\n",
       "      <td>0.029053</td>\n",
       "      <td>0.975957</td>\n",
       "      <td>00:00</td>\n",
       "    </tr>\n",
       "    <tr>\n",
       "      <td>15</td>\n",
       "      <td>0.019921</td>\n",
       "      <td>0.028225</td>\n",
       "      <td>0.976448</td>\n",
       "      <td>00:00</td>\n",
       "    </tr>\n",
       "    <tr>\n",
       "      <td>16</td>\n",
       "      <td>0.019434</td>\n",
       "      <td>0.027490</td>\n",
       "      <td>0.976448</td>\n",
       "      <td>00:00</td>\n",
       "    </tr>\n",
       "    <tr>\n",
       "      <td>17</td>\n",
       "      <td>0.018994</td>\n",
       "      <td>0.026831</td>\n",
       "      <td>0.977429</td>\n",
       "      <td>00:00</td>\n",
       "    </tr>\n",
       "    <tr>\n",
       "      <td>18</td>\n",
       "      <td>0.018595</td>\n",
       "      <td>0.026238</td>\n",
       "      <td>0.977920</td>\n",
       "      <td>00:00</td>\n",
       "    </tr>\n",
       "    <tr>\n",
       "      <td>19</td>\n",
       "      <td>0.018231</td>\n",
       "      <td>0.025701</td>\n",
       "      <td>0.978410</td>\n",
       "      <td>00:00</td>\n",
       "    </tr>\n",
       "    <tr>\n",
       "      <td>20</td>\n",
       "      <td>0.017896</td>\n",
       "      <td>0.025210</td>\n",
       "      <td>0.978901</td>\n",
       "      <td>00:00</td>\n",
       "    </tr>\n",
       "    <tr>\n",
       "      <td>21</td>\n",
       "      <td>0.017586</td>\n",
       "      <td>0.024761</td>\n",
       "      <td>0.979882</td>\n",
       "      <td>00:00</td>\n",
       "    </tr>\n",
       "    <tr>\n",
       "      <td>22</td>\n",
       "      <td>0.017299</td>\n",
       "      <td>0.024349</td>\n",
       "      <td>0.980373</td>\n",
       "      <td>00:00</td>\n",
       "    </tr>\n",
       "    <tr>\n",
       "      <td>23</td>\n",
       "      <td>0.017031</td>\n",
       "      <td>0.023968</td>\n",
       "      <td>0.980864</td>\n",
       "      <td>00:00</td>\n",
       "    </tr>\n",
       "    <tr>\n",
       "      <td>24</td>\n",
       "      <td>0.016780</td>\n",
       "      <td>0.023617</td>\n",
       "      <td>0.981354</td>\n",
       "      <td>00:00</td>\n",
       "    </tr>\n",
       "    <tr>\n",
       "      <td>25</td>\n",
       "      <td>0.016544</td>\n",
       "      <td>0.023291</td>\n",
       "      <td>0.981354</td>\n",
       "      <td>00:00</td>\n",
       "    </tr>\n",
       "    <tr>\n",
       "      <td>26</td>\n",
       "      <td>0.016322</td>\n",
       "      <td>0.022989</td>\n",
       "      <td>0.981354</td>\n",
       "      <td>00:00</td>\n",
       "    </tr>\n",
       "    <tr>\n",
       "      <td>27</td>\n",
       "      <td>0.016112</td>\n",
       "      <td>0.022708</td>\n",
       "      <td>0.981354</td>\n",
       "      <td>00:00</td>\n",
       "    </tr>\n",
       "    <tr>\n",
       "      <td>28</td>\n",
       "      <td>0.015913</td>\n",
       "      <td>0.022446</td>\n",
       "      <td>0.981845</td>\n",
       "      <td>00:00</td>\n",
       "    </tr>\n",
       "    <tr>\n",
       "      <td>29</td>\n",
       "      <td>0.015724</td>\n",
       "      <td>0.022201</td>\n",
       "      <td>0.982826</td>\n",
       "      <td>00:00</td>\n",
       "    </tr>\n",
       "    <tr>\n",
       "      <td>30</td>\n",
       "      <td>0.015544</td>\n",
       "      <td>0.021972</td>\n",
       "      <td>0.982336</td>\n",
       "      <td>00:00</td>\n",
       "    </tr>\n",
       "    <tr>\n",
       "      <td>31</td>\n",
       "      <td>0.015373</td>\n",
       "      <td>0.021758</td>\n",
       "      <td>0.982336</td>\n",
       "      <td>00:00</td>\n",
       "    </tr>\n",
       "    <tr>\n",
       "      <td>32</td>\n",
       "      <td>0.015209</td>\n",
       "      <td>0.021557</td>\n",
       "      <td>0.982336</td>\n",
       "      <td>00:00</td>\n",
       "    </tr>\n",
       "    <tr>\n",
       "      <td>33</td>\n",
       "      <td>0.015052</td>\n",
       "      <td>0.021368</td>\n",
       "      <td>0.982336</td>\n",
       "      <td>00:00</td>\n",
       "    </tr>\n",
       "    <tr>\n",
       "      <td>34</td>\n",
       "      <td>0.014902</td>\n",
       "      <td>0.021190</td>\n",
       "      <td>0.982826</td>\n",
       "      <td>00:00</td>\n",
       "    </tr>\n",
       "    <tr>\n",
       "      <td>35</td>\n",
       "      <td>0.014758</td>\n",
       "      <td>0.021022</td>\n",
       "      <td>0.982826</td>\n",
       "      <td>00:00</td>\n",
       "    </tr>\n",
       "    <tr>\n",
       "      <td>36</td>\n",
       "      <td>0.014621</td>\n",
       "      <td>0.020863</td>\n",
       "      <td>0.982826</td>\n",
       "      <td>00:00</td>\n",
       "    </tr>\n",
       "    <tr>\n",
       "      <td>37</td>\n",
       "      <td>0.014488</td>\n",
       "      <td>0.020712</td>\n",
       "      <td>0.983317</td>\n",
       "      <td>00:00</td>\n",
       "    </tr>\n",
       "    <tr>\n",
       "      <td>38</td>\n",
       "      <td>0.014360</td>\n",
       "      <td>0.020570</td>\n",
       "      <td>0.983317</td>\n",
       "      <td>00:00</td>\n",
       "    </tr>\n",
       "    <tr>\n",
       "      <td>39</td>\n",
       "      <td>0.014236</td>\n",
       "      <td>0.020435</td>\n",
       "      <td>0.983317</td>\n",
       "      <td>00:00</td>\n",
       "    </tr>\n",
       "  </tbody>\n",
       "</table>"
      ],
      "text/plain": [
       "<IPython.core.display.HTML object>"
      ]
     },
     "metadata": {},
     "output_type": "display_data"
    }
   ],
   "source": [
    "learn.fit(40, 0.1)"
   ]
  },
  {
   "cell_type": "code",
   "execution_count": 109,
   "id": "131be01b-6eb0-4c8a-abab-35d9ec577b2c",
   "metadata": {},
   "outputs": [
    {
     "data": {
      "image/png": "[encoded data removed]",
      "text/plain": [
       "<Figure size 432x288 with 1 Axes>"
      ]
     },
     "metadata": {
      "needs_background": "light"
     },
     "output_type": "display_data"
    }
   ],
   "source": [
    "plt.plot(L(learn.recorder.values).itemgot(2));"
   ]
  },
  {
   "cell_type": "markdown",
   "id": "0173f039-1054-4054-a363-2f22f56e7efe",
   "metadata": {},
   "source": [
    "两个线性层和一个非线性层足以逼近任何函数?那么为什么还需要更多层的模型？\n",
    "使用更深层的模型可以带来以下几个好处：\n",
    "\n",
    "更好的表达能力： 更深层的模型可以提供更多的自由度来拟合复杂的非线性关系，从而提高模型的表现力。在某些情况下，单个非线性层可能无法提供足够的表达能力来捕捉数据中的复杂结构。\n",
    "\n",
    "特征提取： 更深层的模型可以学习到更高级别的特征表示，从而更好地捕捉数据中的抽象概念和关系。这对于处理复杂的视觉和语音数据等具有高维度输入空间的问题特别重要。\n",
    "\n",
    "> 在深度学习中，神经网络的每一层都可以看作是对输入数据的一种特征提取器。每一层将输入数据转换为一组新的特征，这些特征对于下一层的特征提取和分类任务更有用。在更深层的神经网络中，每个层都可以学习到不同级别的特征表示，从低级别的特征（例如边缘、角点、颜色）到高级别的特征（例如物体部件、形状、纹理）。这是因为每一层都可以对前一层的特征进行组合和变换，从而提取出更为抽象和高层次的特征表示\n",
    "\n",
    "防止过拟合： 更深层的模型可以通过堆叠多个层来增加模型的复杂度，同时可以使用正则化方法来防止过拟合。这些技术包括 Dropout、Batch Normalization 和权重衰减等。\n",
    "\n",
    "训练效率： 深层模型通常可以通过并行计算来提高训练效率，因为在训练时可以将每层的计算分配到不同的处理器上。此外，深层模型还可以使用预训练技术，如自编码器和迁移学习，来加速训练过程"
   ]
  }
 ],
 "metadata": {
  "kernelspec": {
   "display_name": "Python 3 (ipykernel)",
   "language": "python",
   "name": "python3"
  },
  "language_info": {
   "codemirror_mode": {
    "name": "ipython",
    "version": 3
   },
   "file_extension": ".py",
   "mimetype": "text/x-python",
   "name": "python",
   "nbconvert_exporter": "python",
   "pygments_lexer": "ipython3",
   "version": "3.9.13"
  }
 },
 "nbformat": 4,
 "nbformat_minor": 5
}
